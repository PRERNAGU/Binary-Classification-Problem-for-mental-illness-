{
 "cells": [
  {
   "cell_type": "code",
   "execution_count": 465,
   "id": "7d09a6b9",
   "metadata": {},
   "outputs": [],
   "source": [
    "import pandas as pd\n",
    "import numpy as np\n",
    "import matplotlib.pyplot as plt\n",
    "import seaborn as sns\n",
    "import warnings as wr\n",
    "wr.filterwarnings('ignore')"
   ]
  },
  {
   "cell_type": "code",
   "execution_count": 466,
   "id": "d10a7a45",
   "metadata": {},
   "outputs": [],
   "source": [
    "from pandas import read_csv\n",
    "from sklearn.model_selection import train_test_split\n",
    "from sklearn.preprocessing import LabelEncoder\n",
    "from sklearn.preprocessing import OrdinalEncoder\n"
   ]
  },
  {
   "cell_type": "code",
   "execution_count": 467,
   "id": "7e9f32d8",
   "metadata": {},
   "outputs": [],
   "source": [
    "from sklearn.model_selection import train_test_split\n",
    "from sklearn.feature_selection import chi2\n",
    "from sklearn.feature_selection import SelectKBest\n",
    "from sklearn.preprocessing import LabelEncoder, OrdinalEncoder\n",
    "from sklearn.ensemble import RandomForestClassifier\n",
    "from sklearn.preprocessing import MinMaxScaler\n",
    "from sklearn.compose import ColumnTransformer\n",
    "from sklearn.preprocessing import LabelEncoder\n",
    "from sklearn.compose import make_column_selector as selector\n",
    "from sklearn.pipeline import Pipeline\n",
    "import matplotlib.pyplot as plt\n",
    "import seaborn as sns"
   ]
  },
  {
   "cell_type": "code",
   "execution_count": 468,
   "id": "c32f4c70",
   "metadata": {},
   "outputs": [],
   "source": [
    "import numpy as np \n",
    "import pandas as pd\n",
    "import matplotlib.pyplot as plt\n",
    "from sklearn.linear_model import Lasso\n",
    "from sklearn.model_selection import train_test_split\n",
    "from sklearn.model_selection import GridSearchCV, KFold"
   ]
  },
  {
   "cell_type": "code",
   "execution_count": 469,
   "id": "f3d52037",
   "metadata": {},
   "outputs": [],
   "source": [
    "# Import necessary libraries\n",
    "from sklearn.neural_network import MLPClassifier\n",
    "from sklearn.datasets import load_breast_cancer\n",
    "from sklearn.model_selection import train_test_split\n",
    "from sklearn.preprocessing import StandardScaler\n",
    "from sklearn.metrics import accuracy_score, classification_report, confusion_matrix\n",
    "from sklearn.neural_network import MLPClassifier\n",
    "from sklearn.metrics import classification_report\n",
    "from sklearn.metrics import confusion_matrix\n",
    "from sklearn.metrics import accuracy_score\n",
    "from sklearn.metrics import f1_score\n",
    "from sklearn.metrics import recall_score\n",
    "from sklearn.metrics import precision_score"
   ]
  },
  {
   "cell_type": "code",
   "execution_count": 471,
   "id": "93caaf65",
   "metadata": {},
   "outputs": [],
   "source": [
    "from sklearn.ensemble import RandomForestClassifier\n",
    "from sklearn.metrics import accuracy_score, confusion_matrix, precision_score, recall_score, ConfusionMatrixDisplay\n",
    "from sklearn.model_selection import RandomizedSearchCV, train_test_split\n",
    "from scipy.stats import randint\n",
    "from sklearn.tree import export_graphviz\n",
    "from IPython.display import Image\n"
   ]
  },
  {
   "cell_type": "code",
   "execution_count": 472,
   "id": "2211c39a",
   "metadata": {},
   "outputs": [],
   "source": [
    "df=pd.read_csv(r'C:\\Users\\User\\AppData\\Local\\Temp\\b2c7e859-906d-430c-bc69-7e51291e8b85_archive.zip.b85\\depression_data.csv')"
   ]
  },
  {
   "cell_type": "code",
   "execution_count": 473,
   "id": "dbf03839",
   "metadata": {},
   "outputs": [
    {
     "data": {
      "text/html": [
       "<div>\n",
       "<style scoped>\n",
       "    .dataframe tbody tr th:only-of-type {\n",
       "        vertical-align: middle;\n",
       "    }\n",
       "\n",
       "    .dataframe tbody tr th {\n",
       "        vertical-align: top;\n",
       "    }\n",
       "\n",
       "    .dataframe thead th {\n",
       "        text-align: right;\n",
       "    }\n",
       "</style>\n",
       "<table border=\"1\" class=\"dataframe\">\n",
       "  <thead>\n",
       "    <tr style=\"text-align: right;\">\n",
       "      <th></th>\n",
       "      <th>Name</th>\n",
       "      <th>Age</th>\n",
       "      <th>Marital Status</th>\n",
       "      <th>Education Level</th>\n",
       "      <th>Number of Children</th>\n",
       "      <th>Smoking Status</th>\n",
       "      <th>Physical Activity Level</th>\n",
       "      <th>Employment Status</th>\n",
       "      <th>Income</th>\n",
       "      <th>Alcohol Consumption</th>\n",
       "      <th>Dietary Habits</th>\n",
       "      <th>Sleep Patterns</th>\n",
       "      <th>History of Mental Illness</th>\n",
       "      <th>History of Substance Abuse</th>\n",
       "      <th>Family History of Depression</th>\n",
       "      <th>Chronic Medical Conditions</th>\n",
       "    </tr>\n",
       "  </thead>\n",
       "  <tbody>\n",
       "    <tr>\n",
       "      <th>0</th>\n",
       "      <td>Christine Barker</td>\n",
       "      <td>31</td>\n",
       "      <td>Married</td>\n",
       "      <td>Bachelor's Degree</td>\n",
       "      <td>2</td>\n",
       "      <td>Non-smoker</td>\n",
       "      <td>Active</td>\n",
       "      <td>Unemployed</td>\n",
       "      <td>26265.67</td>\n",
       "      <td>Moderate</td>\n",
       "      <td>Moderate</td>\n",
       "      <td>Fair</td>\n",
       "      <td>Yes</td>\n",
       "      <td>No</td>\n",
       "      <td>Yes</td>\n",
       "      <td>Yes</td>\n",
       "    </tr>\n",
       "    <tr>\n",
       "      <th>1</th>\n",
       "      <td>Jacqueline Lewis</td>\n",
       "      <td>55</td>\n",
       "      <td>Married</td>\n",
       "      <td>High School</td>\n",
       "      <td>1</td>\n",
       "      <td>Non-smoker</td>\n",
       "      <td>Sedentary</td>\n",
       "      <td>Employed</td>\n",
       "      <td>42710.36</td>\n",
       "      <td>High</td>\n",
       "      <td>Unhealthy</td>\n",
       "      <td>Fair</td>\n",
       "      <td>Yes</td>\n",
       "      <td>No</td>\n",
       "      <td>No</td>\n",
       "      <td>Yes</td>\n",
       "    </tr>\n",
       "    <tr>\n",
       "      <th>2</th>\n",
       "      <td>Shannon Church</td>\n",
       "      <td>78</td>\n",
       "      <td>Widowed</td>\n",
       "      <td>Master's Degree</td>\n",
       "      <td>1</td>\n",
       "      <td>Non-smoker</td>\n",
       "      <td>Sedentary</td>\n",
       "      <td>Employed</td>\n",
       "      <td>125332.79</td>\n",
       "      <td>Low</td>\n",
       "      <td>Unhealthy</td>\n",
       "      <td>Good</td>\n",
       "      <td>No</td>\n",
       "      <td>No</td>\n",
       "      <td>Yes</td>\n",
       "      <td>No</td>\n",
       "    </tr>\n",
       "    <tr>\n",
       "      <th>3</th>\n",
       "      <td>Charles Jordan</td>\n",
       "      <td>58</td>\n",
       "      <td>Divorced</td>\n",
       "      <td>Master's Degree</td>\n",
       "      <td>3</td>\n",
       "      <td>Non-smoker</td>\n",
       "      <td>Moderate</td>\n",
       "      <td>Unemployed</td>\n",
       "      <td>9992.78</td>\n",
       "      <td>Moderate</td>\n",
       "      <td>Moderate</td>\n",
       "      <td>Poor</td>\n",
       "      <td>No</td>\n",
       "      <td>No</td>\n",
       "      <td>No</td>\n",
       "      <td>No</td>\n",
       "    </tr>\n",
       "    <tr>\n",
       "      <th>4</th>\n",
       "      <td>Michael Rich</td>\n",
       "      <td>18</td>\n",
       "      <td>Single</td>\n",
       "      <td>High School</td>\n",
       "      <td>0</td>\n",
       "      <td>Non-smoker</td>\n",
       "      <td>Sedentary</td>\n",
       "      <td>Unemployed</td>\n",
       "      <td>8595.08</td>\n",
       "      <td>Low</td>\n",
       "      <td>Moderate</td>\n",
       "      <td>Fair</td>\n",
       "      <td>Yes</td>\n",
       "      <td>No</td>\n",
       "      <td>Yes</td>\n",
       "      <td>Yes</td>\n",
       "    </tr>\n",
       "    <tr>\n",
       "      <th>5</th>\n",
       "      <td>Kathy Hill</td>\n",
       "      <td>20</td>\n",
       "      <td>Single</td>\n",
       "      <td>High School</td>\n",
       "      <td>0</td>\n",
       "      <td>Former</td>\n",
       "      <td>Active</td>\n",
       "      <td>Employed</td>\n",
       "      <td>44448.91</td>\n",
       "      <td>Low</td>\n",
       "      <td>Unhealthy</td>\n",
       "      <td>Fair</td>\n",
       "      <td>No</td>\n",
       "      <td>Yes</td>\n",
       "      <td>No</td>\n",
       "      <td>No</td>\n",
       "    </tr>\n",
       "    <tr>\n",
       "      <th>6</th>\n",
       "      <td>Crystal Delgado</td>\n",
       "      <td>60</td>\n",
       "      <td>Widowed</td>\n",
       "      <td>Associate Degree</td>\n",
       "      <td>1</td>\n",
       "      <td>Non-smoker</td>\n",
       "      <td>Sedentary</td>\n",
       "      <td>Unemployed</td>\n",
       "      <td>22565.47</td>\n",
       "      <td>Moderate</td>\n",
       "      <td>Moderate</td>\n",
       "      <td>Poor</td>\n",
       "      <td>No</td>\n",
       "      <td>Yes</td>\n",
       "      <td>No</td>\n",
       "      <td>No</td>\n",
       "    </tr>\n",
       "    <tr>\n",
       "      <th>7</th>\n",
       "      <td>Charles Kaiser</td>\n",
       "      <td>31</td>\n",
       "      <td>Single</td>\n",
       "      <td>High School</td>\n",
       "      <td>0</td>\n",
       "      <td>Non-smoker</td>\n",
       "      <td>Active</td>\n",
       "      <td>Employed</td>\n",
       "      <td>39608.18</td>\n",
       "      <td>Moderate</td>\n",
       "      <td>Unhealthy</td>\n",
       "      <td>Good</td>\n",
       "      <td>No</td>\n",
       "      <td>No</td>\n",
       "      <td>No</td>\n",
       "      <td>No</td>\n",
       "    </tr>\n",
       "    <tr>\n",
       "      <th>8</th>\n",
       "      <td>Kathryn Taylor</td>\n",
       "      <td>50</td>\n",
       "      <td>Divorced</td>\n",
       "      <td>Bachelor's Degree</td>\n",
       "      <td>0</td>\n",
       "      <td>Non-smoker</td>\n",
       "      <td>Active</td>\n",
       "      <td>Employed</td>\n",
       "      <td>93360.07</td>\n",
       "      <td>Moderate</td>\n",
       "      <td>Healthy</td>\n",
       "      <td>Good</td>\n",
       "      <td>No</td>\n",
       "      <td>Yes</td>\n",
       "      <td>No</td>\n",
       "      <td>Yes</td>\n",
       "    </tr>\n",
       "    <tr>\n",
       "      <th>9</th>\n",
       "      <td>Alexander Hernandez</td>\n",
       "      <td>77</td>\n",
       "      <td>Married</td>\n",
       "      <td>Bachelor's Degree</td>\n",
       "      <td>2</td>\n",
       "      <td>Non-smoker</td>\n",
       "      <td>Sedentary</td>\n",
       "      <td>Employed</td>\n",
       "      <td>77597.84</td>\n",
       "      <td>Low</td>\n",
       "      <td>Unhealthy</td>\n",
       "      <td>Poor</td>\n",
       "      <td>Yes</td>\n",
       "      <td>No</td>\n",
       "      <td>No</td>\n",
       "      <td>No</td>\n",
       "    </tr>\n",
       "  </tbody>\n",
       "</table>\n",
       "</div>"
      ],
      "text/plain": [
       "                  Name  Age Marital Status    Education Level  \\\n",
       "0     Christine Barker   31        Married  Bachelor's Degree   \n",
       "1     Jacqueline Lewis   55        Married        High School   \n",
       "2       Shannon Church   78        Widowed    Master's Degree   \n",
       "3       Charles Jordan   58       Divorced    Master's Degree   \n",
       "4         Michael Rich   18         Single        High School   \n",
       "5           Kathy Hill   20         Single        High School   \n",
       "6      Crystal Delgado   60        Widowed   Associate Degree   \n",
       "7       Charles Kaiser   31         Single        High School   \n",
       "8       Kathryn Taylor   50       Divorced  Bachelor's Degree   \n",
       "9  Alexander Hernandez   77        Married  Bachelor's Degree   \n",
       "\n",
       "   Number of Children Smoking Status Physical Activity Level  \\\n",
       "0                   2     Non-smoker                  Active   \n",
       "1                   1     Non-smoker               Sedentary   \n",
       "2                   1     Non-smoker               Sedentary   \n",
       "3                   3     Non-smoker                Moderate   \n",
       "4                   0     Non-smoker               Sedentary   \n",
       "5                   0         Former                  Active   \n",
       "6                   1     Non-smoker               Sedentary   \n",
       "7                   0     Non-smoker                  Active   \n",
       "8                   0     Non-smoker                  Active   \n",
       "9                   2     Non-smoker               Sedentary   \n",
       "\n",
       "  Employment Status     Income Alcohol Consumption Dietary Habits  \\\n",
       "0        Unemployed   26265.67            Moderate       Moderate   \n",
       "1          Employed   42710.36                High      Unhealthy   \n",
       "2          Employed  125332.79                 Low      Unhealthy   \n",
       "3        Unemployed    9992.78            Moderate       Moderate   \n",
       "4        Unemployed    8595.08                 Low       Moderate   \n",
       "5          Employed   44448.91                 Low      Unhealthy   \n",
       "6        Unemployed   22565.47            Moderate       Moderate   \n",
       "7          Employed   39608.18            Moderate      Unhealthy   \n",
       "8          Employed   93360.07            Moderate        Healthy   \n",
       "9          Employed   77597.84                 Low      Unhealthy   \n",
       "\n",
       "  Sleep Patterns History of Mental Illness History of Substance Abuse  \\\n",
       "0           Fair                       Yes                         No   \n",
       "1           Fair                       Yes                         No   \n",
       "2           Good                        No                         No   \n",
       "3           Poor                        No                         No   \n",
       "4           Fair                       Yes                         No   \n",
       "5           Fair                        No                        Yes   \n",
       "6           Poor                        No                        Yes   \n",
       "7           Good                        No                         No   \n",
       "8           Good                        No                        Yes   \n",
       "9           Poor                       Yes                         No   \n",
       "\n",
       "  Family History of Depression Chronic Medical Conditions  \n",
       "0                          Yes                        Yes  \n",
       "1                           No                        Yes  \n",
       "2                          Yes                         No  \n",
       "3                           No                         No  \n",
       "4                          Yes                        Yes  \n",
       "5                           No                         No  \n",
       "6                           No                         No  \n",
       "7                           No                         No  \n",
       "8                           No                        Yes  \n",
       "9                           No                         No  "
      ]
     },
     "execution_count": 473,
     "metadata": {},
     "output_type": "execute_result"
    }
   ],
   "source": [
    "df.head(10)"
   ]
  },
  {
   "cell_type": "code",
   "execution_count": 475,
   "id": "6d5ce363",
   "metadata": {},
   "outputs": [
    {
     "data": {
      "text/plain": [
       "(413768, 16)"
      ]
     },
     "execution_count": 475,
     "metadata": {},
     "output_type": "execute_result"
    }
   ],
   "source": [
    "#EDA on data: \n",
    "df.shape"
   ]
  },
  {
   "cell_type": "code",
   "execution_count": 477,
   "id": "37aad5f7",
   "metadata": {},
   "outputs": [
    {
     "name": "stdout",
     "output_type": "stream",
     "text": [
      "<class 'pandas.core.frame.DataFrame'>\n",
      "RangeIndex: 413768 entries, 0 to 413767\n",
      "Data columns (total 16 columns):\n",
      " #   Column                        Non-Null Count   Dtype  \n",
      "---  ------                        --------------   -----  \n",
      " 0   Name                          413768 non-null  object \n",
      " 1   Age                           413768 non-null  int64  \n",
      " 2   Marital Status                413768 non-null  object \n",
      " 3   Education Level               413768 non-null  object \n",
      " 4   Number of Children            413768 non-null  int64  \n",
      " 5   Smoking Status                413768 non-null  object \n",
      " 6   Physical Activity Level       413768 non-null  object \n",
      " 7   Employment Status             413768 non-null  object \n",
      " 8   Income                        413768 non-null  float64\n",
      " 9   Alcohol Consumption           413768 non-null  object \n",
      " 10  Dietary Habits                413768 non-null  object \n",
      " 11  Sleep Patterns                413768 non-null  object \n",
      " 12  History of Mental Illness     413768 non-null  object \n",
      " 13  History of Substance Abuse    413768 non-null  object \n",
      " 14  Family History of Depression  413768 non-null  object \n",
      " 15  Chronic Medical Conditions    413768 non-null  object \n",
      "dtypes: float64(1), int64(2), object(13)\n",
      "memory usage: 50.5+ MB\n"
     ]
    }
   ],
   "source": [
    "#info on data types\n",
    "#data consists of 3 quantitative variables and the rest are categorical, qualitative variables\n",
    "df.info()"
   ]
  },
  {
   "cell_type": "code",
   "execution_count": 478,
   "id": "f5c90f81",
   "metadata": {},
   "outputs": [
    {
     "data": {
      "text/html": [
       "<div>\n",
       "<style scoped>\n",
       "    .dataframe tbody tr th:only-of-type {\n",
       "        vertical-align: middle;\n",
       "    }\n",
       "\n",
       "    .dataframe tbody tr th {\n",
       "        vertical-align: top;\n",
       "    }\n",
       "\n",
       "    .dataframe thead th {\n",
       "        text-align: right;\n",
       "    }\n",
       "</style>\n",
       "<table border=\"1\" class=\"dataframe\">\n",
       "  <thead>\n",
       "    <tr style=\"text-align: right;\">\n",
       "      <th></th>\n",
       "      <th>Age</th>\n",
       "      <th>Number of Children</th>\n",
       "      <th>Income</th>\n",
       "    </tr>\n",
       "  </thead>\n",
       "  <tbody>\n",
       "    <tr>\n",
       "      <th>count</th>\n",
       "      <td>413768.000000</td>\n",
       "      <td>413768.000000</td>\n",
       "      <td>413768.000000</td>\n",
       "    </tr>\n",
       "    <tr>\n",
       "      <th>mean</th>\n",
       "      <td>49.000713</td>\n",
       "      <td>1.298972</td>\n",
       "      <td>50661.707971</td>\n",
       "    </tr>\n",
       "    <tr>\n",
       "      <th>std</th>\n",
       "      <td>18.158759</td>\n",
       "      <td>1.237054</td>\n",
       "      <td>40624.100565</td>\n",
       "    </tr>\n",
       "    <tr>\n",
       "      <th>min</th>\n",
       "      <td>18.000000</td>\n",
       "      <td>0.000000</td>\n",
       "      <td>0.410000</td>\n",
       "    </tr>\n",
       "    <tr>\n",
       "      <th>25%</th>\n",
       "      <td>33.000000</td>\n",
       "      <td>0.000000</td>\n",
       "      <td>21001.030000</td>\n",
       "    </tr>\n",
       "    <tr>\n",
       "      <th>50%</th>\n",
       "      <td>49.000000</td>\n",
       "      <td>1.000000</td>\n",
       "      <td>37520.135000</td>\n",
       "    </tr>\n",
       "    <tr>\n",
       "      <th>75%</th>\n",
       "      <td>65.000000</td>\n",
       "      <td>2.000000</td>\n",
       "      <td>76616.300000</td>\n",
       "    </tr>\n",
       "    <tr>\n",
       "      <th>max</th>\n",
       "      <td>80.000000</td>\n",
       "      <td>4.000000</td>\n",
       "      <td>209995.220000</td>\n",
       "    </tr>\n",
       "  </tbody>\n",
       "</table>\n",
       "</div>"
      ],
      "text/plain": [
       "                 Age  Number of Children         Income\n",
       "count  413768.000000       413768.000000  413768.000000\n",
       "mean       49.000713            1.298972   50661.707971\n",
       "std        18.158759            1.237054   40624.100565\n",
       "min        18.000000            0.000000       0.410000\n",
       "25%        33.000000            0.000000   21001.030000\n",
       "50%        49.000000            1.000000   37520.135000\n",
       "75%        65.000000            2.000000   76616.300000\n",
       "max        80.000000            4.000000  209995.220000"
      ]
     },
     "execution_count": 478,
     "metadata": {},
     "output_type": "execute_result"
    }
   ],
   "source": [
    "#statistical properties of quantitative variables\n",
    "df.describe()"
   ]
  },
  {
   "cell_type": "code",
   "execution_count": 140,
   "id": "29f87634",
   "metadata": {},
   "outputs": [
    {
     "data": {
      "text/plain": [
       "['Name',\n",
       " 'Age',\n",
       " 'Marital Status',\n",
       " 'Education Level',\n",
       " 'Number of Children',\n",
       " 'Smoking Status',\n",
       " 'Physical Activity Level',\n",
       " 'Employment Status',\n",
       " 'Income',\n",
       " 'Alcohol Consumption',\n",
       " 'Dietary Habits',\n",
       " 'Sleep Patterns',\n",
       " 'History of Mental Illness',\n",
       " 'History of Substance Abuse',\n",
       " 'Family History of Depression',\n",
       " 'Chronic Medical Conditions']"
      ]
     },
     "execution_count": 140,
     "metadata": {},
     "output_type": "execute_result"
    }
   ],
   "source": [
    "df.columns.tolist()"
   ]
  },
  {
   "cell_type": "code",
   "execution_count": 141,
   "id": "b310b93d",
   "metadata": {},
   "outputs": [
    {
     "data": {
      "text/plain": [
       "Name                            0\n",
       "Age                             0\n",
       "Marital Status                  0\n",
       "Education Level                 0\n",
       "Number of Children              0\n",
       "Smoking Status                  0\n",
       "Physical Activity Level         0\n",
       "Employment Status               0\n",
       "Income                          0\n",
       "Alcohol Consumption             0\n",
       "Dietary Habits                  0\n",
       "Sleep Patterns                  0\n",
       "History of Mental Illness       0\n",
       "History of Substance Abuse      0\n",
       "Family History of Depression    0\n",
       "Chronic Medical Conditions      0\n",
       "dtype: int64"
      ]
     },
     "execution_count": 141,
     "metadata": {},
     "output_type": "execute_result"
    }
   ],
   "source": [
    "# checking for null values in columns\n",
    "df.isnull().sum()"
   ]
  },
  {
   "cell_type": "code",
   "execution_count": 142,
   "id": "54de9cbf",
   "metadata": {},
   "outputs": [
    {
     "data": {
      "text/plain": [
       "Name                            196851\n",
       "Age                                 63\n",
       "Marital Status                       4\n",
       "Education Level                      5\n",
       "Number of Children                   5\n",
       "Smoking Status                       3\n",
       "Physical Activity Level              3\n",
       "Employment Status                    2\n",
       "Income                          405282\n",
       "Alcohol Consumption                  3\n",
       "Dietary Habits                       3\n",
       "Sleep Patterns                       3\n",
       "History of Mental Illness            2\n",
       "History of Substance Abuse           2\n",
       "Family History of Depression         2\n",
       "Chronic Medical Conditions           2\n",
       "dtype: int64"
      ]
     },
     "execution_count": 142,
     "metadata": {},
     "output_type": "execute_result"
    }
   ],
   "source": [
    "# number of unique values in each column\n",
    "df.nunique()"
   ]
  },
  {
   "cell_type": "code",
   "execution_count": 481,
   "id": "144cca9f",
   "metadata": {},
   "outputs": [
    {
     "data": {
      "text/plain": [
       "<Axes: xlabel='Income'>"
      ]
     },
     "execution_count": 481,
     "metadata": {},
     "output_type": "execute_result"
    },
    {
     "data": {
      "image/png": "[encoded data removed]",
      "text/plain": [
       "<Figure size 400x400 with 1 Axes>"
      ]
     },
     "metadata": {},
     "output_type": "display_data"
    }
   ],
   "source": [
    "# outlier detection for quantitative variables (Income)-Box-Plot, Box plot is a data visualization plotting function. It shows the min, max, median, first quartile, and third quartile.\n",
    "plt.figure(figsize=[4,4])\n",
    "sns.boxplot(x=df['Income'])"
   ]
  },
  {
   "cell_type": "code",
   "execution_count": 144,
   "id": "f12d82ab",
   "metadata": {},
   "outputs": [
    {
     "data": {
      "image/png": "[encoded data removed]",
      "text/plain": [
       "<Figure size 400x400 with 1 Axes>"
      ]
     },
     "metadata": {},
     "output_type": "display_data"
    }
   ],
   "source": [
    "#distirbution of the variable income\n",
    "#we see most of population belongs in te 25,000 income level and dist is sknewed to the right\n",
    "df['Income'].hist(figsize=(4,4),bins=100)\n",
    "plt.show()"
   ]
  },
  {
   "cell_type": "code",
   "execution_count": 145,
   "id": "95564e91",
   "metadata": {},
   "outputs": [
    {
     "name": "stdout",
     "output_type": "stream",
     "text": [
      "55615.270000000004\n"
     ]
    }
   ],
   "source": [
    "#The Interquartile Range, or IQR, is a measure of statistical dispersion.\n",
    "#It represents the range within which the middle 50% of the data falls. To calculate the IQR, you need to find the difference between the 75th percentile (Q3) and the 25th percentile (Q1).\n",
    "Q1 = df['Income'].quantile(0.25)\n",
    "Q3 = df['Income'].quantile(0.75)\n",
    "IQR = Q3 - Q1\n",
    "print(IQR)"
   ]
  },
  {
   "cell_type": "code",
   "execution_count": 541,
   "id": "c6bc8fbd",
   "metadata": {},
   "outputs": [
    {
     "data": {
      "text/plain": [
       "<Axes: xlabel='Income', ylabel='Employment Status'>"
      ]
     },
     "execution_count": 541,
     "metadata": {},
     "output_type": "execute_result"
    },
    {
     "data": {
      "image/png": "[encoded data removed]",
      "text/plain": [
       "<Figure size 400x400 with 1 Axes>"
      ]
     },
     "metadata": {},
     "output_type": "display_data"
    }
   ],
   "source": [
    "plt.figure(figsize=[4,4])\n",
    "sns.boxplot(x = df['Income'], \n",
    "            y = df['Employment Status'], \n",
    "            hue = df['Employment Status'])"
   ]
  },
  {
   "cell_type": "code",
   "execution_count": 542,
   "id": "5dbb8326",
   "metadata": {},
   "outputs": [
    {
     "data": {
      "text/plain": [
       "<Axes: xlabel='Income', ylabel='Education Level'>"
      ]
     },
     "execution_count": 542,
     "metadata": {},
     "output_type": "execute_result"
    },
    {
     "data": {
      "image/png": "[encoded data removed]",
      "text/plain": [
       "<Figure size 400x400 with 1 Axes>"
      ]
     },
     "metadata": {},
     "output_type": "display_data"
    }
   ],
   "source": [
    "plt.figure(figsize=[4,4])\n",
    "sns.boxplot(x = df['Income'], \n",
    "            y = df['Education Level'], \n",
    "            hue = df['Education Level'])"
   ]
  },
  {
   "cell_type": "code",
   "execution_count": 543,
   "id": "0d0817c2",
   "metadata": {},
   "outputs": [
    {
     "data": {
      "text/plain": [
       "<Axes: xlabel='Income', ylabel='History of Mental Illness'>"
      ]
     },
     "execution_count": 543,
     "metadata": {},
     "output_type": "execute_result"
    },
    {
     "data": {
      "image/png": "[encoded data removed]",
      "text/plain": [
       "<Figure size 400x400 with 1 Axes>"
      ]
     },
     "metadata": {},
     "output_type": "display_data"
    }
   ],
   "source": [
    "plt.figure(figsize=[4,4])\n",
    "sns.boxplot(x = df['Income'], \n",
    "            y = df['History of Mental Illness'], \n",
    "            hue = df['History of Mental Illness'])"
   ]
  },
  {
   "cell_type": "code",
   "execution_count": 545,
   "id": "5c77ab38",
   "metadata": {},
   "outputs": [
    {
     "data": {
      "text/plain": [
       "<Axes: xlabel='Income', ylabel='Dietary Habits'>"
      ]
     },
     "execution_count": 545,
     "metadata": {},
     "output_type": "execute_result"
    },
    {
     "data": {
      "image/png": "[encoded data removed]",
      "text/plain": [
       "<Figure size 400x400 with 1 Axes>"
      ]
     },
     "metadata": {},
     "output_type": "display_data"
    }
   ],
   "source": [
    "plt.figure(figsize=[4,4])\n",
    "sns.boxplot(x = df['Income'], \n",
    "            y = df['Dietary Habits'], \n",
    "            hue = df['Dietary Habits'])"
   ]
  },
  {
   "cell_type": "code",
   "execution_count": 234,
   "id": "2c9c5f51",
   "metadata": {},
   "outputs": [
    {
     "data": {
      "text/plain": [
       "(408611, 16)"
      ]
     },
     "execution_count": 234,
     "metadata": {},
     "output_type": "execute_result"
    }
   ],
   "source": [
    "#remove income values outside IQR, and determine the shape of the new dataframe after outlier removal\n",
    "df1 = df[~((df['Income'] < (Q1 - 1.5 * IQR)) |(df['Income'] > (Q3 + 1.5 * IQR)))]\n",
    "df1.shape"
   ]
  },
  {
   "cell_type": "code",
   "execution_count": 482,
   "id": "7c85fe15",
   "metadata": {},
   "outputs": [
    {
     "data": {
      "text/plain": [
       "<Axes: xlabel='Age'>"
      ]
     },
     "execution_count": 482,
     "metadata": {},
     "output_type": "execute_result"
    },
    {
     "data": {
      "image/png": "[encoded data removed]",
      "text/plain": [
       "<Figure size 400x400 with 1 Axes>"
      ]
     },
     "metadata": {},
     "output_type": "display_data"
    }
   ],
   "source": [
    "#box plot for age does not show any outliers\n",
    "plt.figure(figsize=[4,4])\n",
    "sns.boxplot(x=df['Age'])"
   ]
  },
  {
   "cell_type": "code",
   "execution_count": 216,
   "id": "86b43023",
   "metadata": {},
   "outputs": [
    {
     "data": {
      "text/plain": [
       "<Axes: xlabel='History of Mental Illness', ylabel='count'>"
      ]
     },
     "execution_count": 216,
     "metadata": {},
     "output_type": "execute_result"
    },
    {
     "data": {
      "image/png": "[encoded data removed]",
      "text/plain": [
       "<Figure size 400x400 with 1 Axes>"
      ]
     },
     "metadata": {},
     "output_type": "display_data"
    }
   ],
   "source": [
    "#we look at the disribution of the values in the target variable, we see an imbalaced dataset\n",
    "#hile~70% of the population does not have mental ilness, 30% is diagnoised with mental ilness\n",
    "plt.figure(figsize=[4,4])\n",
    "sns.countplot(data = df, x = 'History of Mental Illness')"
   ]
  },
  {
   "cell_type": "code",
   "execution_count": 215,
   "id": "27a4a55c",
   "metadata": {},
   "outputs": [
    {
     "data": {
      "image/png": "[encoded data removed]",
      "text/plain": [
       "<Figure size 400x400 with 1 Axes>"
      ]
     },
     "metadata": {},
     "output_type": "display_data"
    }
   ],
   "source": [
    "plt.figure(figsize=[4,4])\n",
    "df['History of Mental Illness'].value_counts().plot.pie(explode=[0,0.1],autopct='%1.1f%%',shadow=True)\n",
    "plt.show()"
   ]
  },
  {
   "cell_type": "code",
   "execution_count": 168,
   "id": "779f1bec",
   "metadata": {},
   "outputs": [
    {
     "data": {
      "text/plain": [
       "Index(['Name', 'Age', 'Marital Status', 'Education Level',\n",
       "       'Number of Children', 'Smoking Status', 'Physical Activity Level',\n",
       "       'Employment Status', 'Income', 'Alcohol Consumption', 'Dietary Habits',\n",
       "       'Sleep Patterns', 'History of Mental Illness',\n",
       "       'History of Substance Abuse', 'Family History of Depression',\n",
       "       'Chronic Medical Conditions'],\n",
       "      dtype='object')"
      ]
     },
     "execution_count": 168,
     "metadata": {},
     "output_type": "execute_result"
    }
   ],
   "source": [
    "df1.columns"
   ]
  },
  {
   "cell_type": "code",
   "execution_count": 169,
   "id": "aee96410",
   "metadata": {},
   "outputs": [
    {
     "data": {
      "text/plain": [
       "<seaborn.axisgrid.FacetGrid at 0x2675c80f9d0>"
      ]
     },
     "execution_count": 169,
     "metadata": {},
     "output_type": "execute_result"
    },
    {
     "data": {
      "image/png": "[encoded data removed]",
      "text/plain": [
       "<Figure size 677.611x500 with 1 Axes>"
      ]
     },
     "metadata": {},
     "output_type": "display_data"
    }
   ],
   "source": [
    "#we check distribution of income across the mentall health group and we see lower instances of mentall ilness with an increase in income\n",
    "sns.displot(df, x=\"Income\", hue=\"History of Mental Illness\")"
   ]
  },
  {
   "cell_type": "code",
   "execution_count": 170,
   "id": "463d54f8",
   "metadata": {},
   "outputs": [
    {
     "data": {
      "text/html": [
       "<div>\n",
       "<style scoped>\n",
       "    .dataframe tbody tr th:only-of-type {\n",
       "        vertical-align: middle;\n",
       "    }\n",
       "\n",
       "    .dataframe tbody tr th {\n",
       "        vertical-align: top;\n",
       "    }\n",
       "\n",
       "    .dataframe thead th {\n",
       "        text-align: right;\n",
       "    }\n",
       "</style>\n",
       "<table border=\"1\" class=\"dataframe\">\n",
       "  <thead>\n",
       "    <tr style=\"text-align: right;\">\n",
       "      <th></th>\n",
       "      <th>Name</th>\n",
       "      <th>Age</th>\n",
       "      <th>Marital Status</th>\n",
       "      <th>Education Level</th>\n",
       "      <th>Number of Children</th>\n",
       "      <th>Smoking Status</th>\n",
       "      <th>Physical Activity Level</th>\n",
       "      <th>Employment Status</th>\n",
       "      <th>Income</th>\n",
       "      <th>Alcohol Consumption</th>\n",
       "      <th>Dietary Habits</th>\n",
       "      <th>Sleep Patterns</th>\n",
       "      <th>History of Mental Illness</th>\n",
       "      <th>History of Substance Abuse</th>\n",
       "      <th>Family History of Depression</th>\n",
       "      <th>Chronic Medical Conditions</th>\n",
       "    </tr>\n",
       "  </thead>\n",
       "  <tbody>\n",
       "    <tr>\n",
       "      <th>0</th>\n",
       "      <td>Christine Barker</td>\n",
       "      <td>31</td>\n",
       "      <td>Married</td>\n",
       "      <td>Bachelor's Degree</td>\n",
       "      <td>2</td>\n",
       "      <td>Non-smoker</td>\n",
       "      <td>Active</td>\n",
       "      <td>Unemployed</td>\n",
       "      <td>26265.67</td>\n",
       "      <td>Moderate</td>\n",
       "      <td>Moderate</td>\n",
       "      <td>Fair</td>\n",
       "      <td>Yes</td>\n",
       "      <td>No</td>\n",
       "      <td>Yes</td>\n",
       "      <td>Yes</td>\n",
       "    </tr>\n",
       "    <tr>\n",
       "      <th>1</th>\n",
       "      <td>Jacqueline Lewis</td>\n",
       "      <td>55</td>\n",
       "      <td>Married</td>\n",
       "      <td>High School</td>\n",
       "      <td>1</td>\n",
       "      <td>Non-smoker</td>\n",
       "      <td>Sedentary</td>\n",
       "      <td>Employed</td>\n",
       "      <td>42710.36</td>\n",
       "      <td>High</td>\n",
       "      <td>Unhealthy</td>\n",
       "      <td>Fair</td>\n",
       "      <td>Yes</td>\n",
       "      <td>No</td>\n",
       "      <td>No</td>\n",
       "      <td>Yes</td>\n",
       "    </tr>\n",
       "    <tr>\n",
       "      <th>2</th>\n",
       "      <td>Shannon Church</td>\n",
       "      <td>78</td>\n",
       "      <td>Widowed</td>\n",
       "      <td>Master's Degree</td>\n",
       "      <td>1</td>\n",
       "      <td>Non-smoker</td>\n",
       "      <td>Sedentary</td>\n",
       "      <td>Employed</td>\n",
       "      <td>125332.79</td>\n",
       "      <td>Low</td>\n",
       "      <td>Unhealthy</td>\n",
       "      <td>Good</td>\n",
       "      <td>No</td>\n",
       "      <td>No</td>\n",
       "      <td>Yes</td>\n",
       "      <td>No</td>\n",
       "    </tr>\n",
       "    <tr>\n",
       "      <th>3</th>\n",
       "      <td>Charles Jordan</td>\n",
       "      <td>58</td>\n",
       "      <td>Divorced</td>\n",
       "      <td>Master's Degree</td>\n",
       "      <td>3</td>\n",
       "      <td>Non-smoker</td>\n",
       "      <td>Moderate</td>\n",
       "      <td>Unemployed</td>\n",
       "      <td>9992.78</td>\n",
       "      <td>Moderate</td>\n",
       "      <td>Moderate</td>\n",
       "      <td>Poor</td>\n",
       "      <td>No</td>\n",
       "      <td>No</td>\n",
       "      <td>No</td>\n",
       "      <td>No</td>\n",
       "    </tr>\n",
       "    <tr>\n",
       "      <th>4</th>\n",
       "      <td>Michael Rich</td>\n",
       "      <td>18</td>\n",
       "      <td>Single</td>\n",
       "      <td>High School</td>\n",
       "      <td>0</td>\n",
       "      <td>Non-smoker</td>\n",
       "      <td>Sedentary</td>\n",
       "      <td>Unemployed</td>\n",
       "      <td>8595.08</td>\n",
       "      <td>Low</td>\n",
       "      <td>Moderate</td>\n",
       "      <td>Fair</td>\n",
       "      <td>Yes</td>\n",
       "      <td>No</td>\n",
       "      <td>Yes</td>\n",
       "      <td>Yes</td>\n",
       "    </tr>\n",
       "  </tbody>\n",
       "</table>\n",
       "</div>"
      ],
      "text/plain": [
       "               Name  Age Marital Status    Education Level  \\\n",
       "0  Christine Barker   31        Married  Bachelor's Degree   \n",
       "1  Jacqueline Lewis   55        Married        High School   \n",
       "2    Shannon Church   78        Widowed    Master's Degree   \n",
       "3    Charles Jordan   58       Divorced    Master's Degree   \n",
       "4      Michael Rich   18         Single        High School   \n",
       "\n",
       "   Number of Children Smoking Status Physical Activity Level  \\\n",
       "0                   2     Non-smoker                  Active   \n",
       "1                   1     Non-smoker               Sedentary   \n",
       "2                   1     Non-smoker               Sedentary   \n",
       "3                   3     Non-smoker                Moderate   \n",
       "4                   0     Non-smoker               Sedentary   \n",
       "\n",
       "  Employment Status     Income Alcohol Consumption Dietary Habits  \\\n",
       "0        Unemployed   26265.67            Moderate       Moderate   \n",
       "1          Employed   42710.36                High      Unhealthy   \n",
       "2          Employed  125332.79                 Low      Unhealthy   \n",
       "3        Unemployed    9992.78            Moderate       Moderate   \n",
       "4        Unemployed    8595.08                 Low       Moderate   \n",
       "\n",
       "  Sleep Patterns History of Mental Illness History of Substance Abuse  \\\n",
       "0           Fair                       Yes                         No   \n",
       "1           Fair                       Yes                         No   \n",
       "2           Good                        No                         No   \n",
       "3           Poor                        No                         No   \n",
       "4           Fair                       Yes                         No   \n",
       "\n",
       "  Family History of Depression Chronic Medical Conditions  \n",
       "0                          Yes                        Yes  \n",
       "1                           No                        Yes  \n",
       "2                          Yes                         No  \n",
       "3                           No                         No  \n",
       "4                          Yes                        Yes  "
      ]
     },
     "execution_count": 170,
     "metadata": {},
     "output_type": "execute_result"
    }
   ],
   "source": [
    "df.head()"
   ]
  },
  {
   "cell_type": "code",
   "execution_count": 171,
   "id": "dbe17d86",
   "metadata": {},
   "outputs": [
    {
     "data": {
      "text/plain": [
       "Index(['Name', 'Age', 'Marital Status', 'Education Level',\n",
       "       'Number of Children', 'Smoking Status', 'Physical Activity Level',\n",
       "       'Employment Status', 'Income', 'Alcohol Consumption', 'Dietary Habits',\n",
       "       'Sleep Patterns', 'History of Mental Illness',\n",
       "       'History of Substance Abuse', 'Family History of Depression',\n",
       "       'Chronic Medical Conditions'],\n",
       "      dtype='object')"
      ]
     },
     "execution_count": 171,
     "metadata": {},
     "output_type": "execute_result"
    }
   ],
   "source": [
    "df.columns"
   ]
  },
  {
   "cell_type": "raw",
   "id": "2300838f",
   "metadata": {},
   "source": [
    "We have both categorical and numerical features. Ordinal Encoding was used for - 'employment, alcohol and sleep patterns'-since they have a natural rank ordering, here the order of ranking is preserved. \n",
    "\n",
    "Lable encoding was used for rest of the categorical variables. \n",
    "\n",
    "The variables were standardised and normalised \n"
   ]
  },
  {
   "cell_type": "code",
   "execution_count": 483,
   "id": "c1fbcafe",
   "metadata": {},
   "outputs": [],
   "source": [
    "#these 3 categorical variables below, we use ordinal encoding since they have a natural rank ordering, here the order of ranking is preserved\n",
    "ord_cols=[ 'Employment Status', 'Alcohol Consumption', 'Sleep Patterns']"
   ]
  },
  {
   "cell_type": "code",
   "execution_count": 484,
   "id": "d1284a88",
   "metadata": {},
   "outputs": [],
   "source": [
    "df_ord=df1.loc[:, ord_cols]"
   ]
  },
  {
   "cell_type": "code",
   "execution_count": 485,
   "id": "9f9bb4ff",
   "metadata": {},
   "outputs": [
    {
     "data": {
      "text/html": [
       "<div>\n",
       "<style scoped>\n",
       "    .dataframe tbody tr th:only-of-type {\n",
       "        vertical-align: middle;\n",
       "    }\n",
       "\n",
       "    .dataframe tbody tr th {\n",
       "        vertical-align: top;\n",
       "    }\n",
       "\n",
       "    .dataframe thead th {\n",
       "        text-align: right;\n",
       "    }\n",
       "</style>\n",
       "<table border=\"1\" class=\"dataframe\">\n",
       "  <thead>\n",
       "    <tr style=\"text-align: right;\">\n",
       "      <th></th>\n",
       "      <th>Employment Status</th>\n",
       "      <th>Alcohol Consumption</th>\n",
       "      <th>Sleep Patterns</th>\n",
       "    </tr>\n",
       "  </thead>\n",
       "  <tbody>\n",
       "    <tr>\n",
       "      <th>0</th>\n",
       "      <td>0</td>\n",
       "      <td>1</td>\n",
       "      <td>1</td>\n",
       "    </tr>\n",
       "    <tr>\n",
       "      <th>1</th>\n",
       "      <td>1</td>\n",
       "      <td>0</td>\n",
       "      <td>1</td>\n",
       "    </tr>\n",
       "    <tr>\n",
       "      <th>2</th>\n",
       "      <td>1</td>\n",
       "      <td>2</td>\n",
       "      <td>2</td>\n",
       "    </tr>\n",
       "    <tr>\n",
       "      <th>3</th>\n",
       "      <td>0</td>\n",
       "      <td>1</td>\n",
       "      <td>0</td>\n",
       "    </tr>\n",
       "    <tr>\n",
       "      <th>4</th>\n",
       "      <td>0</td>\n",
       "      <td>2</td>\n",
       "      <td>1</td>\n",
       "    </tr>\n",
       "    <tr>\n",
       "      <th>...</th>\n",
       "      <td>...</td>\n",
       "      <td>...</td>\n",
       "      <td>...</td>\n",
       "    </tr>\n",
       "    <tr>\n",
       "      <th>413763</th>\n",
       "      <td>1</td>\n",
       "      <td>2</td>\n",
       "      <td>2</td>\n",
       "    </tr>\n",
       "    <tr>\n",
       "      <th>413764</th>\n",
       "      <td>1</td>\n",
       "      <td>2</td>\n",
       "      <td>0</td>\n",
       "    </tr>\n",
       "    <tr>\n",
       "      <th>413765</th>\n",
       "      <td>1</td>\n",
       "      <td>1</td>\n",
       "      <td>1</td>\n",
       "    </tr>\n",
       "    <tr>\n",
       "      <th>413766</th>\n",
       "      <td>0</td>\n",
       "      <td>1</td>\n",
       "      <td>0</td>\n",
       "    </tr>\n",
       "    <tr>\n",
       "      <th>413767</th>\n",
       "      <td>1</td>\n",
       "      <td>1</td>\n",
       "      <td>2</td>\n",
       "    </tr>\n",
       "  </tbody>\n",
       "</table>\n",
       "<p>408611 rows × 3 columns</p>\n",
       "</div>"
      ],
      "text/plain": [
       "        Employment Status  Alcohol Consumption  Sleep Patterns\n",
       "0                       0                    1               1\n",
       "1                       1                    0               1\n",
       "2                       1                    2               2\n",
       "3                       0                    1               0\n",
       "4                       0                    2               1\n",
       "...                   ...                  ...             ...\n",
       "413763                  1                    2               2\n",
       "413764                  1                    2               0\n",
       "413765                  1                    1               1\n",
       "413766                  0                    1               0\n",
       "413767                  1                    1               2\n",
       "\n",
       "[408611 rows x 3 columns]"
      ]
     },
     "execution_count": 485,
     "metadata": {},
     "output_type": "execute_result"
    }
   ],
   "source": [
    "df_ord"
   ]
  },
  {
   "cell_type": "code",
   "execution_count": 486,
   "id": "17179f7b",
   "metadata": {},
   "outputs": [
    {
     "data": {
      "text/plain": [
       "array([0, 1], dtype=int64)"
      ]
     },
     "execution_count": 486,
     "metadata": {},
     "output_type": "execute_result"
    }
   ],
   "source": [
    "df1['Employment Status'].unique()"
   ]
  },
  {
   "cell_type": "code",
   "execution_count": 487,
   "id": "6a492cee",
   "metadata": {},
   "outputs": [],
   "source": [
    "level_mapping={'Unemployed':0,'Employed':1}\n",
    "df1['Employment Status']=df1['Employment Status'].replace(level_mapping)"
   ]
  },
  {
   "cell_type": "code",
   "execution_count": 488,
   "id": "0ced0ad3",
   "metadata": {},
   "outputs": [
    {
     "data": {
      "text/plain": [
       "array([1, 0, 2], dtype=int64)"
      ]
     },
     "execution_count": 488,
     "metadata": {},
     "output_type": "execute_result"
    }
   ],
   "source": [
    "df1['Alcohol Consumption'].unique()"
   ]
  },
  {
   "cell_type": "code",
   "execution_count": 489,
   "id": "d647be1b",
   "metadata": {},
   "outputs": [],
   "source": [
    "level_mapping={'High':0,'Moderate':1, 'Low':2 }\n",
    "df1['Alcohol Consumption']=df1['Alcohol Consumption'].replace(level_mapping)"
   ]
  },
  {
   "cell_type": "code",
   "execution_count": 490,
   "id": "006683ca",
   "metadata": {},
   "outputs": [
    {
     "data": {
      "text/plain": [
       "array([1, 2, 0], dtype=int64)"
      ]
     },
     "execution_count": 490,
     "metadata": {},
     "output_type": "execute_result"
    }
   ],
   "source": [
    "df1['Sleep Patterns'].unique()"
   ]
  },
  {
   "cell_type": "code",
   "execution_count": 491,
   "id": "fe3fd0b4",
   "metadata": {},
   "outputs": [],
   "source": [
    "level_mapping={'Poor':0,'Fair':1, 'Good':2 }\n",
    "df1['Sleep Patterns']=df1['Sleep Patterns'].replace(level_mapping)"
   ]
  },
  {
   "cell_type": "code",
   "execution_count": 492,
   "id": "487470af",
   "metadata": {},
   "outputs": [],
   "source": [
    "# for the rest of the categorical variables we use label encoder\n",
    "label_cols=['Marital Status', 'Smoking Status', 'Physical Activity Level', 'Education Level',\n",
    "       'Dietary Habits','History of Mental Illness',\n",
    "       'History of Substance Abuse', 'Family History of Depression',\n",
    "       'Chronic Medical Conditions']"
   ]
  },
  {
   "cell_type": "code",
   "execution_count": 493,
   "id": "6afe1f20",
   "metadata": {},
   "outputs": [],
   "source": [
    "label_encoder = LabelEncoder()\n",
    "for i in label_cols:\n",
    "    df1[i] = label_encoder.fit_transform(df1[i])"
   ]
  },
  {
   "cell_type": "code",
   "execution_count": 495,
   "id": "eb7763df",
   "metadata": {},
   "outputs": [
    {
     "data": {
      "text/html": [
       "<div>\n",
       "<style scoped>\n",
       "    .dataframe tbody tr th:only-of-type {\n",
       "        vertical-align: middle;\n",
       "    }\n",
       "\n",
       "    .dataframe tbody tr th {\n",
       "        vertical-align: top;\n",
       "    }\n",
       "\n",
       "    .dataframe thead th {\n",
       "        text-align: right;\n",
       "    }\n",
       "</style>\n",
       "<table border=\"1\" class=\"dataframe\">\n",
       "  <thead>\n",
       "    <tr style=\"text-align: right;\">\n",
       "      <th></th>\n",
       "      <th>Age</th>\n",
       "      <th>Marital Status</th>\n",
       "      <th>Education Level</th>\n",
       "      <th>Number of Children</th>\n",
       "      <th>Smoking Status</th>\n",
       "      <th>Physical Activity Level</th>\n",
       "      <th>Employment Status</th>\n",
       "      <th>Income</th>\n",
       "      <th>Alcohol Consumption</th>\n",
       "      <th>Dietary Habits</th>\n",
       "      <th>Sleep Patterns</th>\n",
       "      <th>History of Mental Illness</th>\n",
       "      <th>History of Substance Abuse</th>\n",
       "      <th>Family History of Depression</th>\n",
       "      <th>Chronic Medical Conditions</th>\n",
       "    </tr>\n",
       "  </thead>\n",
       "  <tbody>\n",
       "    <tr>\n",
       "      <th>0</th>\n",
       "      <td>31</td>\n",
       "      <td>1</td>\n",
       "      <td>1</td>\n",
       "      <td>2</td>\n",
       "      <td>2</td>\n",
       "      <td>0</td>\n",
       "      <td>0</td>\n",
       "      <td>26265.67</td>\n",
       "      <td>1</td>\n",
       "      <td>1</td>\n",
       "      <td>1</td>\n",
       "      <td>1</td>\n",
       "      <td>0</td>\n",
       "      <td>1</td>\n",
       "      <td>1</td>\n",
       "    </tr>\n",
       "    <tr>\n",
       "      <th>1</th>\n",
       "      <td>55</td>\n",
       "      <td>1</td>\n",
       "      <td>2</td>\n",
       "      <td>1</td>\n",
       "      <td>2</td>\n",
       "      <td>2</td>\n",
       "      <td>1</td>\n",
       "      <td>42710.36</td>\n",
       "      <td>0</td>\n",
       "      <td>2</td>\n",
       "      <td>1</td>\n",
       "      <td>1</td>\n",
       "      <td>0</td>\n",
       "      <td>0</td>\n",
       "      <td>1</td>\n",
       "    </tr>\n",
       "    <tr>\n",
       "      <th>2</th>\n",
       "      <td>78</td>\n",
       "      <td>3</td>\n",
       "      <td>3</td>\n",
       "      <td>1</td>\n",
       "      <td>2</td>\n",
       "      <td>2</td>\n",
       "      <td>1</td>\n",
       "      <td>125332.79</td>\n",
       "      <td>2</td>\n",
       "      <td>2</td>\n",
       "      <td>2</td>\n",
       "      <td>0</td>\n",
       "      <td>0</td>\n",
       "      <td>1</td>\n",
       "      <td>0</td>\n",
       "    </tr>\n",
       "    <tr>\n",
       "      <th>3</th>\n",
       "      <td>58</td>\n",
       "      <td>0</td>\n",
       "      <td>3</td>\n",
       "      <td>3</td>\n",
       "      <td>2</td>\n",
       "      <td>1</td>\n",
       "      <td>0</td>\n",
       "      <td>9992.78</td>\n",
       "      <td>1</td>\n",
       "      <td>1</td>\n",
       "      <td>0</td>\n",
       "      <td>0</td>\n",
       "      <td>0</td>\n",
       "      <td>0</td>\n",
       "      <td>0</td>\n",
       "    </tr>\n",
       "    <tr>\n",
       "      <th>4</th>\n",
       "      <td>18</td>\n",
       "      <td>2</td>\n",
       "      <td>2</td>\n",
       "      <td>0</td>\n",
       "      <td>2</td>\n",
       "      <td>2</td>\n",
       "      <td>0</td>\n",
       "      <td>8595.08</td>\n",
       "      <td>2</td>\n",
       "      <td>1</td>\n",
       "      <td>1</td>\n",
       "      <td>1</td>\n",
       "      <td>0</td>\n",
       "      <td>1</td>\n",
       "      <td>1</td>\n",
       "    </tr>\n",
       "  </tbody>\n",
       "</table>\n",
       "</div>"
      ],
      "text/plain": [
       "   Age  Marital Status  Education Level  Number of Children  Smoking Status  \\\n",
       "0   31               1                1                   2               2   \n",
       "1   55               1                2                   1               2   \n",
       "2   78               3                3                   1               2   \n",
       "3   58               0                3                   3               2   \n",
       "4   18               2                2                   0               2   \n",
       "\n",
       "   Physical Activity Level  Employment Status     Income  Alcohol Consumption  \\\n",
       "0                        0                  0   26265.67                    1   \n",
       "1                        2                  1   42710.36                    0   \n",
       "2                        2                  1  125332.79                    2   \n",
       "3                        1                  0    9992.78                    1   \n",
       "4                        2                  0    8595.08                    2   \n",
       "\n",
       "   Dietary Habits  Sleep Patterns  History of Mental Illness  \\\n",
       "0               1               1                          1   \n",
       "1               2               1                          1   \n",
       "2               2               2                          0   \n",
       "3               1               0                          0   \n",
       "4               1               1                          1   \n",
       "\n",
       "   History of Substance Abuse  Family History of Depression  \\\n",
       "0                           0                             1   \n",
       "1                           0                             0   \n",
       "2                           0                             1   \n",
       "3                           0                             0   \n",
       "4                           0                             1   \n",
       "\n",
       "   Chronic Medical Conditions  \n",
       "0                           1  \n",
       "1                           1  \n",
       "2                           0  \n",
       "3                           0  \n",
       "4                           1  "
      ]
     },
     "execution_count": 495,
     "metadata": {},
     "output_type": "execute_result"
    }
   ],
   "source": [
    "# df1 is the new convereted dataset, where the categorical variables are encoded\n",
    "df1.head()"
   ]
  },
  {
   "cell_type": "code",
   "execution_count": null,
   "id": "17ab7b76",
   "metadata": {},
   "outputs": [],
   "source": [
    "#train test split on categorical variables, 80% training data, 20% test data\n",
    "X = df1.drop([ 'index','Name', 'History of Mental Illness', 'Age', 'Income', 'Number of Children' ], axis = 1)\n",
    "Y = df1['History of Mental Illness']\n",
    "X_train, X_test, Y_train, Y_test = train_test_split(X, Y, test_size = 0.2)"
   ]
  },
  {
   "cell_type": "raw",
   "id": "e5ffea6b",
   "metadata": {},
   "source": [
    "Feature Selection using -chi-square test:\n",
    "A chi-square test is a statistical method used for feature selection in machine learning when dealing with categorical variables,allowing you to identify which categorical features have a significant relationship with the target variable,\n",
    "thus helping to select the most relevant features for our model. "
   ]
  },
  {
   "cell_type": "code",
   "execution_count": 208,
   "id": "d15c9211",
   "metadata": {},
   "outputs": [],
   "source": [
    "\n",
    "def select_features(X_train, y_train, X_test, k_value='all'):\n",
    "    fs = SelectKBest(score_func=chi2, k=k_value)\n",
    "    fs.fit(X_train, y_train)\n",
    "    X_train_fs = fs.transform(X_train)\n",
    "    X_test_fs = fs.transform(X_test)\n",
    "    return X_train_fs, X_test_fs, fs"
   ]
  },
  {
   "cell_type": "code",
   "execution_count": 211,
   "id": "a725ede9",
   "metadata": {},
   "outputs": [
    {
     "data": {
      "image/png": "[encoded data removed]",
      "text/plain": [
       "<Figure size 500x400 with 1 Axes>"
      ]
     },
     "metadata": {},
     "output_type": "display_data"
    }
   ],
   "source": [
    "#It is used to determine whether there is a significant association between two categorical variables. In the context of feature selection,\n",
    "#The chi-square test can be used to identify the features that are most strongly associated with the target variable.\n",
    "names = []\n",
    "values = []\n",
    "cat_data = X_train\n",
    "for i in range(len(fs.scores_)):\n",
    "    names.append(cat_data.columns[i])\n",
    "    values.append(fs.scores_[i])\n",
    "chi_list = zip(names, values)\n",
    "\n",
    "# next we plot the scores, showing the importance with respect to the 'mental ilness target variable'\n",
    "plt.figure(figsize=(5,4))\n",
    "sns.barplot(x=names, y=values)\n",
    "plt.xticks(rotation = 90)\n",
    "plt.show()"
   ]
  },
  {
   "cell_type": "code",
   "execution_count": 120,
   "id": "f6576da3",
   "metadata": {},
   "outputs": [
    {
     "data": {
      "image/png": "[encoded data removed]",
      "text/plain": [
       "<Figure size 500x400 with 1 Axes>"
      ]
     },
     "metadata": {},
     "output_type": "display_data"
    }
   ],
   "source": [
    "## since employment is dominating in the previous chart, we make another plot of feature importnace for clearer visualizaton\n",
    "names = []\n",
    "values = []\n",
    "cat_data = X_train\n",
    "for i in range(len(fs.scores_)):\n",
    "    names.append(cat_data.columns[i])\n",
    "    values.append(fs.scores_[i])\n",
    "chi_list = zip(names, values)\n",
    "\n",
    "# plot the scores\n",
    "plt.figure(figsize=(5,4))\n",
    "sns.barplot(x=names, y=values)\n",
    "plt.xticks(rotation = 90)\n",
    "plt.show()"
   ]
  },
  {
   "cell_type": "code",
   "execution_count": 213,
   "id": "bb1c6747",
   "metadata": {},
   "outputs": [
    {
     "data": {
      "text/plain": [
       "array(['Education Level', 'Employment Status', 'Alcohol Consumption',\n",
       "       'Dietary Habits', 'Sleep Patterns'], dtype=object)"
      ]
     },
     "execution_count": 213,
     "metadata": {},
     "output_type": "execute_result"
    }
   ],
   "source": [
    "#Names of top 5 categorial features\n",
    "X_train_fs, X_test_fs, fs = select_features(X_train, Y_train, X_test, 5)\n",
    "fs.get_feature_names_out()\n",
    " "
   ]
  },
  {
   "cell_type": "code",
   "execution_count": 195,
   "id": "931265fa",
   "metadata": {},
   "outputs": [],
   "source": [
    "#Next we analyse the numerical features\n",
    "df_num= df1.loc[:, [  'Age', 'Income', 'Number of Children' ]]"
   ]
  },
  {
   "cell_type": "code",
   "execution_count": 197,
   "id": "94c63882",
   "metadata": {},
   "outputs": [
    {
     "data": {
      "image/png": "[encoded data removed]",
      "text/plain": [
       "<Figure size 600x600 with 2 Axes>"
      ]
     },
     "metadata": {},
     "output_type": "display_data"
    }
   ],
   "source": [
    "#the numercial features show no instance of multi colleneraity\n",
    "corr = df_num.corr()\n",
    "\n",
    "f, ax = plt.subplots(figsize=(6, 6))\n",
    "\n",
    "sns.heatmap(corr, cmap=\"Blues\", annot=True, square=False, ax=ax)\n",
    "plt.title('Pearson Correlation of Features')\n",
    "plt.yticks(rotation=45);"
   ]
  },
  {
   "cell_type": "raw",
   "id": "1891dba9",
   "metadata": {},
   "source": [
    "Next, we use the Lasso regression, for feature selection of both numerical and cateorical variables,.\n",
    "1) We choose the best alpha parameter value for Lasso Regression \n",
    "2) Then we used the same alpha parameter in Lasso Regression to find the importance of each feature of the dataset.\n",
    "3) We subsetted those important columns to make a new dataset. \n",
    "4) Now this new dataset was for further evaluation \n"
   ]
  },
  {
   "cell_type": "code",
   "execution_count": 199,
   "id": "9cc5d132",
   "metadata": {},
   "outputs": [
    {
     "name": "stdout",
     "output_type": "stream",
     "text": [
      "Shape of Train Features: (326888, 14)\n",
      "Shape of Test Features: (81723, 14)\n",
      "Shape of Train Target: (326888,)\n",
      "Shape of Test Target: (81723,)\n"
     ]
    }
   ],
   "source": [
    "X = df1.drop([ 'index','Name', 'History of Mental Illness' ], axis=1).values\n",
    "y = df1['History of Mental Illness'].values\n",
    "\n",
    "# Train Test Split\n",
    "X_train, X_test, y_train, y_test = train_test_split(X, y, test_size=0.20, random_state=42, stratify=y)\n",
    "\n",
    "print(\"Shape of Train Features: {}\".format(X_train.shape))\n",
    "print(\"Shape of Test Features: {}\".format(X_test.shape))\n",
    "print(\"Shape of Train Target: {}\".format(y_train.shape))\n",
    "print(\"Shape of Test Target: {}\".format(y_test.shape))"
   ]
  },
  {
   "cell_type": "code",
   "execution_count": 221,
   "id": "81fa8603",
   "metadata": {},
   "outputs": [
    {
     "name": "stdout",
     "output_type": "stream",
     "text": [
      "0    227108\n",
      "1     99780\n",
      "Name: count, dtype: int64\n",
      "mental ilness 1 :  0.0   NaN\n",
      "1.0   NaN\n",
      "Name: count, dtype: float64\n",
      "mental ilness :  0.0   NaN\n",
      "1.0   NaN\n",
      "Name: count, dtype: float64\n"
     ]
    }
   ],
   "source": [
    "#EDA data shape analysis\n",
    "y_train=pd.Series(y_train)\n",
    "print(y_train.value_counts())\n",
    "Total = np.add(y_train.where(y_train==1).value_counts(), \n",
    "               y_train.where(y_train==0).value_counts())\n",
    "print('mental ilness 1 : ',(y_train.where(y_train==1).value_counts()/Total)*100)\n",
    "print('mental ilness : ',100 - (y_train.where(y_train==1).value_counts()/Total)*100)"
   ]
  },
  {
   "cell_type": "code",
   "execution_count": 253,
   "id": "cc6cd2f6",
   "metadata": {},
   "outputs": [
    {
     "data": {
      "text/html": [
       "<div>\n",
       "<style scoped>\n",
       "    .dataframe tbody tr th:only-of-type {\n",
       "        vertical-align: middle;\n",
       "    }\n",
       "\n",
       "    .dataframe tbody tr th {\n",
       "        vertical-align: top;\n",
       "    }\n",
       "\n",
       "    .dataframe thead th {\n",
       "        text-align: right;\n",
       "    }\n",
       "</style>\n",
       "<table border=\"1\" class=\"dataframe\">\n",
       "  <thead>\n",
       "    <tr style=\"text-align: right;\">\n",
       "      <th></th>\n",
       "      <th>Age</th>\n",
       "      <th>Marital Status</th>\n",
       "      <th>Education Level</th>\n",
       "      <th>Number of Children</th>\n",
       "      <th>Smoking Status</th>\n",
       "      <th>Physical Activity Level</th>\n",
       "      <th>Employment Status</th>\n",
       "      <th>Income</th>\n",
       "      <th>Alcohol Consumption</th>\n",
       "      <th>Dietary Habits</th>\n",
       "      <th>Sleep Patterns</th>\n",
       "      <th>History of Mental Illness</th>\n",
       "      <th>History of Substance Abuse</th>\n",
       "      <th>Family History of Depression</th>\n",
       "      <th>Chronic Medical Conditions</th>\n",
       "    </tr>\n",
       "  </thead>\n",
       "  <tbody>\n",
       "    <tr>\n",
       "      <th>0</th>\n",
       "      <td>31</td>\n",
       "      <td>1</td>\n",
       "      <td>1</td>\n",
       "      <td>2</td>\n",
       "      <td>2</td>\n",
       "      <td>0</td>\n",
       "      <td>0</td>\n",
       "      <td>26265.67</td>\n",
       "      <td>1</td>\n",
       "      <td>1</td>\n",
       "      <td>1</td>\n",
       "      <td>1</td>\n",
       "      <td>0</td>\n",
       "      <td>1</td>\n",
       "      <td>1</td>\n",
       "    </tr>\n",
       "    <tr>\n",
       "      <th>1</th>\n",
       "      <td>55</td>\n",
       "      <td>1</td>\n",
       "      <td>2</td>\n",
       "      <td>1</td>\n",
       "      <td>2</td>\n",
       "      <td>2</td>\n",
       "      <td>1</td>\n",
       "      <td>42710.36</td>\n",
       "      <td>0</td>\n",
       "      <td>2</td>\n",
       "      <td>1</td>\n",
       "      <td>1</td>\n",
       "      <td>0</td>\n",
       "      <td>0</td>\n",
       "      <td>1</td>\n",
       "    </tr>\n",
       "    <tr>\n",
       "      <th>2</th>\n",
       "      <td>78</td>\n",
       "      <td>3</td>\n",
       "      <td>3</td>\n",
       "      <td>1</td>\n",
       "      <td>2</td>\n",
       "      <td>2</td>\n",
       "      <td>1</td>\n",
       "      <td>125332.79</td>\n",
       "      <td>2</td>\n",
       "      <td>2</td>\n",
       "      <td>2</td>\n",
       "      <td>0</td>\n",
       "      <td>0</td>\n",
       "      <td>1</td>\n",
       "      <td>0</td>\n",
       "    </tr>\n",
       "    <tr>\n",
       "      <th>3</th>\n",
       "      <td>58</td>\n",
       "      <td>0</td>\n",
       "      <td>3</td>\n",
       "      <td>3</td>\n",
       "      <td>2</td>\n",
       "      <td>1</td>\n",
       "      <td>0</td>\n",
       "      <td>9992.78</td>\n",
       "      <td>1</td>\n",
       "      <td>1</td>\n",
       "      <td>0</td>\n",
       "      <td>0</td>\n",
       "      <td>0</td>\n",
       "      <td>0</td>\n",
       "      <td>0</td>\n",
       "    </tr>\n",
       "    <tr>\n",
       "      <th>4</th>\n",
       "      <td>18</td>\n",
       "      <td>2</td>\n",
       "      <td>2</td>\n",
       "      <td>0</td>\n",
       "      <td>2</td>\n",
       "      <td>2</td>\n",
       "      <td>0</td>\n",
       "      <td>8595.08</td>\n",
       "      <td>2</td>\n",
       "      <td>1</td>\n",
       "      <td>1</td>\n",
       "      <td>1</td>\n",
       "      <td>0</td>\n",
       "      <td>1</td>\n",
       "      <td>1</td>\n",
       "    </tr>\n",
       "    <tr>\n",
       "      <th>...</th>\n",
       "      <td>...</td>\n",
       "      <td>...</td>\n",
       "      <td>...</td>\n",
       "      <td>...</td>\n",
       "      <td>...</td>\n",
       "      <td>...</td>\n",
       "      <td>...</td>\n",
       "      <td>...</td>\n",
       "      <td>...</td>\n",
       "      <td>...</td>\n",
       "      <td>...</td>\n",
       "      <td>...</td>\n",
       "      <td>...</td>\n",
       "      <td>...</td>\n",
       "      <td>...</td>\n",
       "    </tr>\n",
       "    <tr>\n",
       "      <th>413763</th>\n",
       "      <td>68</td>\n",
       "      <td>1</td>\n",
       "      <td>3</td>\n",
       "      <td>0</td>\n",
       "      <td>1</td>\n",
       "      <td>1</td>\n",
       "      <td>1</td>\n",
       "      <td>109233.43</td>\n",
       "      <td>2</td>\n",
       "      <td>0</td>\n",
       "      <td>2</td>\n",
       "      <td>0</td>\n",
       "      <td>0</td>\n",
       "      <td>0</td>\n",
       "      <td>0</td>\n",
       "    </tr>\n",
       "    <tr>\n",
       "      <th>413764</th>\n",
       "      <td>26</td>\n",
       "      <td>2</td>\n",
       "      <td>1</td>\n",
       "      <td>0</td>\n",
       "      <td>0</td>\n",
       "      <td>0</td>\n",
       "      <td>1</td>\n",
       "      <td>96760.97</td>\n",
       "      <td>2</td>\n",
       "      <td>0</td>\n",
       "      <td>0</td>\n",
       "      <td>1</td>\n",
       "      <td>1</td>\n",
       "      <td>0</td>\n",
       "      <td>1</td>\n",
       "    </tr>\n",
       "    <tr>\n",
       "      <th>413765</th>\n",
       "      <td>57</td>\n",
       "      <td>1</td>\n",
       "      <td>1</td>\n",
       "      <td>0</td>\n",
       "      <td>2</td>\n",
       "      <td>2</td>\n",
       "      <td>1</td>\n",
       "      <td>77353.26</td>\n",
       "      <td>1</td>\n",
       "      <td>1</td>\n",
       "      <td>1</td>\n",
       "      <td>0</td>\n",
       "      <td>0</td>\n",
       "      <td>1</td>\n",
       "      <td>1</td>\n",
       "    </tr>\n",
       "    <tr>\n",
       "      <th>413766</th>\n",
       "      <td>71</td>\n",
       "      <td>1</td>\n",
       "      <td>0</td>\n",
       "      <td>2</td>\n",
       "      <td>2</td>\n",
       "      <td>2</td>\n",
       "      <td>0</td>\n",
       "      <td>24557.08</td>\n",
       "      <td>1</td>\n",
       "      <td>1</td>\n",
       "      <td>0</td>\n",
       "      <td>0</td>\n",
       "      <td>1</td>\n",
       "      <td>0</td>\n",
       "      <td>0</td>\n",
       "    </tr>\n",
       "    <tr>\n",
       "      <th>413767</th>\n",
       "      <td>62</td>\n",
       "      <td>3</td>\n",
       "      <td>3</td>\n",
       "      <td>0</td>\n",
       "      <td>1</td>\n",
       "      <td>1</td>\n",
       "      <td>1</td>\n",
       "      <td>107125.74</td>\n",
       "      <td>1</td>\n",
       "      <td>0</td>\n",
       "      <td>2</td>\n",
       "      <td>0</td>\n",
       "      <td>1</td>\n",
       "      <td>0</td>\n",
       "      <td>0</td>\n",
       "    </tr>\n",
       "  </tbody>\n",
       "</table>\n",
       "<p>408611 rows × 15 columns</p>\n",
       "</div>"
      ],
      "text/plain": [
       "        Age  Marital Status  Education Level  Number of Children  \\\n",
       "0        31               1                1                   2   \n",
       "1        55               1                2                   1   \n",
       "2        78               3                3                   1   \n",
       "3        58               0                3                   3   \n",
       "4        18               2                2                   0   \n",
       "...     ...             ...              ...                 ...   \n",
       "413763   68               1                3                   0   \n",
       "413764   26               2                1                   0   \n",
       "413765   57               1                1                   0   \n",
       "413766   71               1                0                   2   \n",
       "413767   62               3                3                   0   \n",
       "\n",
       "        Smoking Status  Physical Activity Level  Employment Status     Income  \\\n",
       "0                    2                        0                  0   26265.67   \n",
       "1                    2                        2                  1   42710.36   \n",
       "2                    2                        2                  1  125332.79   \n",
       "3                    2                        1                  0    9992.78   \n",
       "4                    2                        2                  0    8595.08   \n",
       "...                ...                      ...                ...        ...   \n",
       "413763               1                        1                  1  109233.43   \n",
       "413764               0                        0                  1   96760.97   \n",
       "413765               2                        2                  1   77353.26   \n",
       "413766               2                        2                  0   24557.08   \n",
       "413767               1                        1                  1  107125.74   \n",
       "\n",
       "        Alcohol Consumption  Dietary Habits  Sleep Patterns  \\\n",
       "0                         1               1               1   \n",
       "1                         0               2               1   \n",
       "2                         2               2               2   \n",
       "3                         1               1               0   \n",
       "4                         2               1               1   \n",
       "...                     ...             ...             ...   \n",
       "413763                    2               0               2   \n",
       "413764                    2               0               0   \n",
       "413765                    1               1               1   \n",
       "413766                    1               1               0   \n",
       "413767                    1               0               2   \n",
       "\n",
       "        History of Mental Illness  History of Substance Abuse  \\\n",
       "0                               1                           0   \n",
       "1                               1                           0   \n",
       "2                               0                           0   \n",
       "3                               0                           0   \n",
       "4                               1                           0   \n",
       "...                           ...                         ...   \n",
       "413763                          0                           0   \n",
       "413764                          1                           1   \n",
       "413765                          0                           0   \n",
       "413766                          0                           1   \n",
       "413767                          0                           1   \n",
       "\n",
       "        Family History of Depression  Chronic Medical Conditions  \n",
       "0                                  1                           1  \n",
       "1                                  0                           1  \n",
       "2                                  1                           0  \n",
       "3                                  0                           0  \n",
       "4                                  1                           1  \n",
       "...                              ...                         ...  \n",
       "413763                             0                           0  \n",
       "413764                             0                           1  \n",
       "413765                             1                           1  \n",
       "413766                             0                           0  \n",
       "413767                             0                           0  \n",
       "\n",
       "[408611 rows x 15 columns]"
      ]
     },
     "execution_count": 253,
     "metadata": {},
     "output_type": "execute_result"
    }
   ],
   "source": [
    "df1"
   ]
  },
  {
   "cell_type": "code",
   "execution_count": 238,
   "id": "ad0317c8",
   "metadata": {},
   "outputs": [],
   "source": [
    "df1=df1.drop(['Name'],  axis=1)"
   ]
  },
  {
   "cell_type": "code",
   "execution_count": 254,
   "id": "b3f903c1",
   "metadata": {},
   "outputs": [
    {
     "data": {
      "text/html": [
       "<div>\n",
       "<style scoped>\n",
       "    .dataframe tbody tr th:only-of-type {\n",
       "        vertical-align: middle;\n",
       "    }\n",
       "\n",
       "    .dataframe tbody tr th {\n",
       "        vertical-align: top;\n",
       "    }\n",
       "\n",
       "    .dataframe thead th {\n",
       "        text-align: right;\n",
       "    }\n",
       "</style>\n",
       "<table border=\"1\" class=\"dataframe\">\n",
       "  <thead>\n",
       "    <tr style=\"text-align: right;\">\n",
       "      <th></th>\n",
       "      <th>Age</th>\n",
       "      <th>Marital Status</th>\n",
       "      <th>Education Level</th>\n",
       "      <th>Number of Children</th>\n",
       "      <th>Smoking Status</th>\n",
       "      <th>Physical Activity Level</th>\n",
       "      <th>Employment Status</th>\n",
       "      <th>Income</th>\n",
       "      <th>Alcohol Consumption</th>\n",
       "      <th>Dietary Habits</th>\n",
       "      <th>Sleep Patterns</th>\n",
       "      <th>History of Mental Illness</th>\n",
       "      <th>History of Substance Abuse</th>\n",
       "      <th>Family History of Depression</th>\n",
       "      <th>Chronic Medical Conditions</th>\n",
       "    </tr>\n",
       "  </thead>\n",
       "  <tbody>\n",
       "    <tr>\n",
       "      <th>0</th>\n",
       "      <td>31</td>\n",
       "      <td>1</td>\n",
       "      <td>1</td>\n",
       "      <td>2</td>\n",
       "      <td>2</td>\n",
       "      <td>0</td>\n",
       "      <td>0</td>\n",
       "      <td>26265.67</td>\n",
       "      <td>1</td>\n",
       "      <td>1</td>\n",
       "      <td>1</td>\n",
       "      <td>1</td>\n",
       "      <td>0</td>\n",
       "      <td>1</td>\n",
       "      <td>1</td>\n",
       "    </tr>\n",
       "    <tr>\n",
       "      <th>1</th>\n",
       "      <td>55</td>\n",
       "      <td>1</td>\n",
       "      <td>2</td>\n",
       "      <td>1</td>\n",
       "      <td>2</td>\n",
       "      <td>2</td>\n",
       "      <td>1</td>\n",
       "      <td>42710.36</td>\n",
       "      <td>0</td>\n",
       "      <td>2</td>\n",
       "      <td>1</td>\n",
       "      <td>1</td>\n",
       "      <td>0</td>\n",
       "      <td>0</td>\n",
       "      <td>1</td>\n",
       "    </tr>\n",
       "    <tr>\n",
       "      <th>2</th>\n",
       "      <td>78</td>\n",
       "      <td>3</td>\n",
       "      <td>3</td>\n",
       "      <td>1</td>\n",
       "      <td>2</td>\n",
       "      <td>2</td>\n",
       "      <td>1</td>\n",
       "      <td>125332.79</td>\n",
       "      <td>2</td>\n",
       "      <td>2</td>\n",
       "      <td>2</td>\n",
       "      <td>0</td>\n",
       "      <td>0</td>\n",
       "      <td>1</td>\n",
       "      <td>0</td>\n",
       "    </tr>\n",
       "    <tr>\n",
       "      <th>3</th>\n",
       "      <td>58</td>\n",
       "      <td>0</td>\n",
       "      <td>3</td>\n",
       "      <td>3</td>\n",
       "      <td>2</td>\n",
       "      <td>1</td>\n",
       "      <td>0</td>\n",
       "      <td>9992.78</td>\n",
       "      <td>1</td>\n",
       "      <td>1</td>\n",
       "      <td>0</td>\n",
       "      <td>0</td>\n",
       "      <td>0</td>\n",
       "      <td>0</td>\n",
       "      <td>0</td>\n",
       "    </tr>\n",
       "    <tr>\n",
       "      <th>4</th>\n",
       "      <td>18</td>\n",
       "      <td>2</td>\n",
       "      <td>2</td>\n",
       "      <td>0</td>\n",
       "      <td>2</td>\n",
       "      <td>2</td>\n",
       "      <td>0</td>\n",
       "      <td>8595.08</td>\n",
       "      <td>2</td>\n",
       "      <td>1</td>\n",
       "      <td>1</td>\n",
       "      <td>1</td>\n",
       "      <td>0</td>\n",
       "      <td>1</td>\n",
       "      <td>1</td>\n",
       "    </tr>\n",
       "    <tr>\n",
       "      <th>...</th>\n",
       "      <td>...</td>\n",
       "      <td>...</td>\n",
       "      <td>...</td>\n",
       "      <td>...</td>\n",
       "      <td>...</td>\n",
       "      <td>...</td>\n",
       "      <td>...</td>\n",
       "      <td>...</td>\n",
       "      <td>...</td>\n",
       "      <td>...</td>\n",
       "      <td>...</td>\n",
       "      <td>...</td>\n",
       "      <td>...</td>\n",
       "      <td>...</td>\n",
       "      <td>...</td>\n",
       "    </tr>\n",
       "    <tr>\n",
       "      <th>413763</th>\n",
       "      <td>68</td>\n",
       "      <td>1</td>\n",
       "      <td>3</td>\n",
       "      <td>0</td>\n",
       "      <td>1</td>\n",
       "      <td>1</td>\n",
       "      <td>1</td>\n",
       "      <td>109233.43</td>\n",
       "      <td>2</td>\n",
       "      <td>0</td>\n",
       "      <td>2</td>\n",
       "      <td>0</td>\n",
       "      <td>0</td>\n",
       "      <td>0</td>\n",
       "      <td>0</td>\n",
       "    </tr>\n",
       "    <tr>\n",
       "      <th>413764</th>\n",
       "      <td>26</td>\n",
       "      <td>2</td>\n",
       "      <td>1</td>\n",
       "      <td>0</td>\n",
       "      <td>0</td>\n",
       "      <td>0</td>\n",
       "      <td>1</td>\n",
       "      <td>96760.97</td>\n",
       "      <td>2</td>\n",
       "      <td>0</td>\n",
       "      <td>0</td>\n",
       "      <td>1</td>\n",
       "      <td>1</td>\n",
       "      <td>0</td>\n",
       "      <td>1</td>\n",
       "    </tr>\n",
       "    <tr>\n",
       "      <th>413765</th>\n",
       "      <td>57</td>\n",
       "      <td>1</td>\n",
       "      <td>1</td>\n",
       "      <td>0</td>\n",
       "      <td>2</td>\n",
       "      <td>2</td>\n",
       "      <td>1</td>\n",
       "      <td>77353.26</td>\n",
       "      <td>1</td>\n",
       "      <td>1</td>\n",
       "      <td>1</td>\n",
       "      <td>0</td>\n",
       "      <td>0</td>\n",
       "      <td>1</td>\n",
       "      <td>1</td>\n",
       "    </tr>\n",
       "    <tr>\n",
       "      <th>413766</th>\n",
       "      <td>71</td>\n",
       "      <td>1</td>\n",
       "      <td>0</td>\n",
       "      <td>2</td>\n",
       "      <td>2</td>\n",
       "      <td>2</td>\n",
       "      <td>0</td>\n",
       "      <td>24557.08</td>\n",
       "      <td>1</td>\n",
       "      <td>1</td>\n",
       "      <td>0</td>\n",
       "      <td>0</td>\n",
       "      <td>1</td>\n",
       "      <td>0</td>\n",
       "      <td>0</td>\n",
       "    </tr>\n",
       "    <tr>\n",
       "      <th>413767</th>\n",
       "      <td>62</td>\n",
       "      <td>3</td>\n",
       "      <td>3</td>\n",
       "      <td>0</td>\n",
       "      <td>1</td>\n",
       "      <td>1</td>\n",
       "      <td>1</td>\n",
       "      <td>107125.74</td>\n",
       "      <td>1</td>\n",
       "      <td>0</td>\n",
       "      <td>2</td>\n",
       "      <td>0</td>\n",
       "      <td>1</td>\n",
       "      <td>0</td>\n",
       "      <td>0</td>\n",
       "    </tr>\n",
       "  </tbody>\n",
       "</table>\n",
       "<p>408611 rows × 15 columns</p>\n",
       "</div>"
      ],
      "text/plain": [
       "        Age  Marital Status  Education Level  Number of Children  \\\n",
       "0        31               1                1                   2   \n",
       "1        55               1                2                   1   \n",
       "2        78               3                3                   1   \n",
       "3        58               0                3                   3   \n",
       "4        18               2                2                   0   \n",
       "...     ...             ...              ...                 ...   \n",
       "413763   68               1                3                   0   \n",
       "413764   26               2                1                   0   \n",
       "413765   57               1                1                   0   \n",
       "413766   71               1                0                   2   \n",
       "413767   62               3                3                   0   \n",
       "\n",
       "        Smoking Status  Physical Activity Level  Employment Status     Income  \\\n",
       "0                    2                        0                  0   26265.67   \n",
       "1                    2                        2                  1   42710.36   \n",
       "2                    2                        2                  1  125332.79   \n",
       "3                    2                        1                  0    9992.78   \n",
       "4                    2                        2                  0    8595.08   \n",
       "...                ...                      ...                ...        ...   \n",
       "413763               1                        1                  1  109233.43   \n",
       "413764               0                        0                  1   96760.97   \n",
       "413765               2                        2                  1   77353.26   \n",
       "413766               2                        2                  0   24557.08   \n",
       "413767               1                        1                  1  107125.74   \n",
       "\n",
       "        Alcohol Consumption  Dietary Habits  Sleep Patterns  \\\n",
       "0                         1               1               1   \n",
       "1                         0               2               1   \n",
       "2                         2               2               2   \n",
       "3                         1               1               0   \n",
       "4                         2               1               1   \n",
       "...                     ...             ...             ...   \n",
       "413763                    2               0               2   \n",
       "413764                    2               0               0   \n",
       "413765                    1               1               1   \n",
       "413766                    1               1               0   \n",
       "413767                    1               0               2   \n",
       "\n",
       "        History of Mental Illness  History of Substance Abuse  \\\n",
       "0                               1                           0   \n",
       "1                               1                           0   \n",
       "2                               0                           0   \n",
       "3                               0                           0   \n",
       "4                               1                           0   \n",
       "...                           ...                         ...   \n",
       "413763                          0                           0   \n",
       "413764                          1                           1   \n",
       "413765                          0                           0   \n",
       "413766                          0                           1   \n",
       "413767                          0                           1   \n",
       "\n",
       "        Family History of Depression  Chronic Medical Conditions  \n",
       "0                                  1                           1  \n",
       "1                                  0                           1  \n",
       "2                                  1                           0  \n",
       "3                                  0                           0  \n",
       "4                                  1                           1  \n",
       "...                              ...                         ...  \n",
       "413763                             0                           0  \n",
       "413764                             0                           1  \n",
       "413765                             1                           1  \n",
       "413766                             0                           0  \n",
       "413767                             0                           0  \n",
       "\n",
       "[408611 rows x 15 columns]"
      ]
     },
     "execution_count": 254,
     "metadata": {},
     "output_type": "execute_result"
    }
   ],
   "source": [
    "df1"
   ]
  },
  {
   "cell_type": "code",
   "execution_count": 255,
   "id": "2eb56765",
   "metadata": {},
   "outputs": [],
   "source": [
    "#Next we use the standard sclar to scale the variables\n",
    "#The concept of standardization comes into picture when continuous independent variables are measured at different scales. \n",
    "#It means these variables do not give equal contribution to the analysis.\n",
    "scaler = StandardScaler() \n",
    "X = df1.drop(['History of Mental Illness' ], axis=1).values\n",
    "y = df1['History of Mental Illness'].values\n",
    "scaler = StandardScaler() \n",
    "X = scaler.fit_transform(X) "
   ]
  },
  {
   "cell_type": "code",
   "execution_count": 256,
   "id": "945110f4",
   "metadata": {},
   "outputs": [],
   "source": [
    "X_train, X_test, Y_train, Y_test = train_test_split( \n",
    "        X, Y, test_size=1/3, random_state=0) \n",
    "  "
   ]
  },
  {
   "cell_type": "code",
   "execution_count": 284,
   "id": "1d7353a3",
   "metadata": {},
   "outputs": [
    {
     "name": "stdout",
     "output_type": "stream",
     "text": [
      "Best Params {'alpha': 0.0016000000000000003}\n"
     ]
    }
   ],
   "source": [
    "# parameters to be tested on GridSearchCV\n",
    "params = {\"alpha\":np.arange(0.001, 0.01, 0.0001)}\n",
    "\n",
    "# Number of Folds and adding the random state for replication\n",
    "kf=KFold(n_splits=5,shuffle=True, random_state=42)\n",
    "\n",
    "# Initializing the Model\n",
    "lasso = Lasso()\n",
    "\n",
    "# GridSearchCV with model, params and folds.\n",
    "lasso_cv=GridSearchCV(lasso, param_grid=params, cv=kf)\n",
    "lasso_cv.fit(X_train, Y_train)\n",
    "print(\"Best Params {}\".format(lasso_cv.best_params_))"
   ]
  },
  {
   "cell_type": "code",
   "execution_count": 285,
   "id": "8e172ebc",
   "metadata": {},
   "outputs": [
    {
     "name": "stdout",
     "output_type": "stream",
     "text": [
      "Column Names: ['Age' 'Marital Status' 'Education Level' 'Number of Children'\n",
      " 'Smoking Status' 'Physical Activity Level' 'Employment Status' 'Income'\n",
      " 'Alcohol Consumption' 'Dietary Habits' 'Sleep Patterns'\n",
      " 'History of Substance Abuse' 'Family History of Depression'\n",
      " 'Chronic Medical Conditions']\n"
     ]
    }
   ],
   "source": [
    "names=df1.drop('History of Mental Illness', axis=1).columns\n",
    "print(\"Column Names: {}\".format(names.values))"
   ]
  },
  {
   "cell_type": "raw",
   "id": "45e145e9",
   "metadata": {},
   "source": [
    "Feature selection using Lasso \n",
    "While implementing lasso regression, the penalty term (L1 regularization) helps to significantly lowers the variance of the model by decreasing the coefficients of less significant features towards zero. By doing this, overfitting may be avoided."
   ]
  },
  {
   "cell_type": "code",
   "execution_count": 295,
   "id": "78e047bb",
   "metadata": {},
   "outputs": [
    {
     "data": {
      "image/png": "[encoded data removed]",
      "text/plain": [
       "<Figure size 640x480 with 1 Axes>"
      ]
     },
     "metadata": {},
     "output_type": "display_data"
    }
   ],
   "source": [
    "# Feature importance basis Lasso regression, Employment and Income are the two most important variables\n",
    "lasso1 = Lasso(alpha= 0.0016)\n",
    "lasso1.fit(X_train, Y_train)\n",
    "\n",
    "# Using np.abs() to make coefficients positive.  \n",
    "lasso1_coef = np.abs(lasso1.coef_)\n",
    "\n",
    "# plotting the Column Names and Importance of Columns. \n",
    "plt.bar(names, lasso1_coef)\n",
    "plt.xticks(rotation=90)\n",
    "plt.grid()\n",
    "plt.title(\"Feature Selection Based on Lasso\")\n",
    "plt.xlabel(\"Features\")\n",
    "plt.ylabel(\"Importance\")\n",
    "plt.ylim(0, 0.04)\n",
    "plt.show()"
   ]
  },
  {
   "cell_type": "raw",
   "id": "09c1b51b",
   "metadata": {},
   "source": [
    "Shotcomings of Lasso Model: Lasso may make the model overly simplistic and unable to represent the true underlying relationships in the data, raising the regularization strength to reduce variance may also increase bias.\n",
    "Further, only represents linear relations in the model"
   ]
  },
  {
   "cell_type": "code",
   "execution_count": 298,
   "id": "a06a0a80",
   "metadata": {},
   "outputs": [
    {
     "name": "stdout",
     "output_type": "stream",
     "text": [
      "Selected Feature Columns: ['Employment Status' 'Income' 'Dietary Habits' 'Sleep Patterns']\n",
      "Selected Columns: ['Employment Status' 'Income' 'Dietary Habits' 'Sleep Patterns'\n",
      " 'History of Mental Illness']\n"
     ]
    }
   ],
   "source": [
    "# Subsetting the features which has more than 0.001 importance.\n",
    "feature_subset=np.array(names)[lasso1_coef>0.001]\n",
    "print(\"Selected Feature Columns: {}\".format(feature_subset))\n",
    "\n",
    "# Adding the target to the list of feaatures. \n",
    "feature_subset=np.append(feature_subset, \"History of Mental Illness\")\n",
    "print(\"Selected Columns: {}\".format(feature_subset))"
   ]
  },
  {
   "cell_type": "code",
   "execution_count": 407,
   "id": "dcdbe838",
   "metadata": {},
   "outputs": [],
   "source": [
    "df2=df1.loc[:, ['Employment Status', 'Income' ,'Dietary Habits', 'Sleep Patterns',\n",
    " 'History of Mental Illness', 'Alcohol Consumption', 'Age']]"
   ]
  },
  {
   "cell_type": "code",
   "execution_count": 519,
   "id": "1cd60f3e",
   "metadata": {},
   "outputs": [
    {
     "data": {
      "text/html": [
       "<div>\n",
       "<style scoped>\n",
       "    .dataframe tbody tr th:only-of-type {\n",
       "        vertical-align: middle;\n",
       "    }\n",
       "\n",
       "    .dataframe tbody tr th {\n",
       "        vertical-align: top;\n",
       "    }\n",
       "\n",
       "    .dataframe thead th {\n",
       "        text-align: right;\n",
       "    }\n",
       "</style>\n",
       "<table border=\"1\" class=\"dataframe\">\n",
       "  <thead>\n",
       "    <tr style=\"text-align: right;\">\n",
       "      <th></th>\n",
       "      <th>Employment Status</th>\n",
       "      <th>Income</th>\n",
       "      <th>Dietary Habits</th>\n",
       "      <th>Sleep Patterns</th>\n",
       "      <th>History of Mental Illness</th>\n",
       "      <th>Alcohol Consumption</th>\n",
       "      <th>Age</th>\n",
       "    </tr>\n",
       "  </thead>\n",
       "  <tbody>\n",
       "    <tr>\n",
       "      <th>0</th>\n",
       "      <td>0</td>\n",
       "      <td>26265.67</td>\n",
       "      <td>1</td>\n",
       "      <td>1</td>\n",
       "      <td>1</td>\n",
       "      <td>1</td>\n",
       "      <td>31</td>\n",
       "    </tr>\n",
       "    <tr>\n",
       "      <th>1</th>\n",
       "      <td>1</td>\n",
       "      <td>42710.36</td>\n",
       "      <td>2</td>\n",
       "      <td>1</td>\n",
       "      <td>1</td>\n",
       "      <td>0</td>\n",
       "      <td>55</td>\n",
       "    </tr>\n",
       "    <tr>\n",
       "      <th>2</th>\n",
       "      <td>1</td>\n",
       "      <td>125332.79</td>\n",
       "      <td>2</td>\n",
       "      <td>2</td>\n",
       "      <td>0</td>\n",
       "      <td>2</td>\n",
       "      <td>78</td>\n",
       "    </tr>\n",
       "    <tr>\n",
       "      <th>3</th>\n",
       "      <td>0</td>\n",
       "      <td>9992.78</td>\n",
       "      <td>1</td>\n",
       "      <td>0</td>\n",
       "      <td>0</td>\n",
       "      <td>1</td>\n",
       "      <td>58</td>\n",
       "    </tr>\n",
       "    <tr>\n",
       "      <th>4</th>\n",
       "      <td>0</td>\n",
       "      <td>8595.08</td>\n",
       "      <td>1</td>\n",
       "      <td>1</td>\n",
       "      <td>1</td>\n",
       "      <td>2</td>\n",
       "      <td>18</td>\n",
       "    </tr>\n",
       "    <tr>\n",
       "      <th>...</th>\n",
       "      <td>...</td>\n",
       "      <td>...</td>\n",
       "      <td>...</td>\n",
       "      <td>...</td>\n",
       "      <td>...</td>\n",
       "      <td>...</td>\n",
       "      <td>...</td>\n",
       "    </tr>\n",
       "    <tr>\n",
       "      <th>413763</th>\n",
       "      <td>1</td>\n",
       "      <td>109233.43</td>\n",
       "      <td>0</td>\n",
       "      <td>2</td>\n",
       "      <td>0</td>\n",
       "      <td>2</td>\n",
       "      <td>68</td>\n",
       "    </tr>\n",
       "    <tr>\n",
       "      <th>413764</th>\n",
       "      <td>1</td>\n",
       "      <td>96760.97</td>\n",
       "      <td>0</td>\n",
       "      <td>0</td>\n",
       "      <td>1</td>\n",
       "      <td>2</td>\n",
       "      <td>26</td>\n",
       "    </tr>\n",
       "    <tr>\n",
       "      <th>413765</th>\n",
       "      <td>1</td>\n",
       "      <td>77353.26</td>\n",
       "      <td>1</td>\n",
       "      <td>1</td>\n",
       "      <td>0</td>\n",
       "      <td>1</td>\n",
       "      <td>57</td>\n",
       "    </tr>\n",
       "    <tr>\n",
       "      <th>413766</th>\n",
       "      <td>0</td>\n",
       "      <td>24557.08</td>\n",
       "      <td>1</td>\n",
       "      <td>0</td>\n",
       "      <td>0</td>\n",
       "      <td>1</td>\n",
       "      <td>71</td>\n",
       "    </tr>\n",
       "    <tr>\n",
       "      <th>413767</th>\n",
       "      <td>1</td>\n",
       "      <td>107125.74</td>\n",
       "      <td>0</td>\n",
       "      <td>2</td>\n",
       "      <td>0</td>\n",
       "      <td>1</td>\n",
       "      <td>62</td>\n",
       "    </tr>\n",
       "  </tbody>\n",
       "</table>\n",
       "<p>408611 rows × 7 columns</p>\n",
       "</div>"
      ],
      "text/plain": [
       "        Employment Status     Income  Dietary Habits  Sleep Patterns  \\\n",
       "0                       0   26265.67               1               1   \n",
       "1                       1   42710.36               2               1   \n",
       "2                       1  125332.79               2               2   \n",
       "3                       0    9992.78               1               0   \n",
       "4                       0    8595.08               1               1   \n",
       "...                   ...        ...             ...             ...   \n",
       "413763                  1  109233.43               0               2   \n",
       "413764                  1   96760.97               0               0   \n",
       "413765                  1   77353.26               1               1   \n",
       "413766                  0   24557.08               1               0   \n",
       "413767                  1  107125.74               0               2   \n",
       "\n",
       "        History of Mental Illness  Alcohol Consumption  Age  \n",
       "0                               1                    1   31  \n",
       "1                               1                    0   55  \n",
       "2                               0                    2   78  \n",
       "3                               0                    1   58  \n",
       "4                               1                    2   18  \n",
       "...                           ...                  ...  ...  \n",
       "413763                          0                    2   68  \n",
       "413764                          1                    2   26  \n",
       "413765                          0                    1   57  \n",
       "413766                          0                    1   71  \n",
       "413767                          0                    1   62  \n",
       "\n",
       "[408611 rows x 7 columns]"
      ]
     },
     "execution_count": 519,
     "metadata": {},
     "output_type": "execute_result"
    }
   ],
   "source": [
    "df2"
   ]
  },
  {
   "cell_type": "raw",
   "id": "81d9c4b0",
   "metadata": {},
   "source": [
    "1)We train a multilayer feedforward neural network on the data\n",
    "2) To avoid overfitting we use 5 selected feature variables dteremined eralier- 'Employment Status', 'Income' ,'Dietary Habits', 'Sleep Patterns', 'Alcohol Consumption'\n",
    "\n",
    "A multilayer feedforward neural network- a deep neural network that consists of an \n",
    "interconnection of perceptrons with an input layer, an output layer (that makes a decision or \n",
    "prediction about the input); and in between these are the hidden layers. The training on the \n",
    "input and output layers of MLP is executed by updating weights and biases of the nuerons \n",
    "composing the layers, each layer at a time, by the method of backpropagation, via a series of \n",
    "iterations each successively reducing the error. During backpropagation, for each epoch, the \n",
    "gradient of the error along which the parameters (synaptic weights and biases) are adjusted \n",
    "as they move the MLP one step closer to the error minimum. The parameters are updated \n",
    "until the error reaches the minimum, which is known as convergence. "
   ]
  },
  {
   "cell_type": "code",
   "execution_count": 520,
   "id": "152cfca1",
   "metadata": {},
   "outputs": [],
   "source": [
    "mlp = MLPClassifier(max_iter=20)"
   ]
  },
  {
   "cell_type": "code",
   "execution_count": 521,
   "id": "669e0539",
   "metadata": {},
   "outputs": [],
   "source": [
    "X=df2.drop('History of Mental Illness', axis=1)"
   ]
  },
  {
   "cell_type": "code",
   "execution_count": 522,
   "id": "c48d80ce",
   "metadata": {},
   "outputs": [],
   "source": [
    "Y=df2['History of Mental Illness']"
   ]
  },
  {
   "cell_type": "code",
   "execution_count": 523,
   "id": "ec08a6a3",
   "metadata": {},
   "outputs": [],
   "source": [
    "X_train, X_test, y_train, y_test = train_test_split( \n",
    "        X, Y, test_size=0.30, random_state=42) \n",
    "  "
   ]
  },
  {
   "cell_type": "raw",
   "id": "04d3ac0a",
   "metadata": {},
   "source": [
    "Hyper parameter tuning -\n",
    "The SoftMax activation output function was used for the \n",
    "given classification problem which returns a probabilistic distribution of the classes. The \n",
    "standard cross entropy loss function was used to generate the loss function in order to \n",
    "iteratively adjust the errors in each epoch. For the purpose of our study, the maximum number \n",
    "of epochs was set to 20. \n",
    "\n",
    "The following hyper parameters using grid search were considered, number of hidden layers-(2), number of nuerons in each layer, \n",
    "the learning rate, and activation functions (namely tahn and Re-Lu). \n",
    "\n",
    "MLP is extremely sensitive to the choice of the initial weights, thus 2-fold cross \n",
    "validation is a potent tool for the purpose of hyper-parameter selection. \n",
    "\n",
    "Shortcomings- We used gradient descent back propagation an for weight optimisation, however,  gradient descent is expected to suffer from the drawbacks like local search  nature and a tendency of overfitting the data. \n",
    "\n"
   ]
  },
  {
   "cell_type": "code",
   "execution_count": 524,
   "id": "96af71f5",
   "metadata": {},
   "outputs": [],
   "source": [
    "parameter_space = {\n",
    "    'hidden_layer_sizes': [(50,50), (50,100, 50)],\n",
    "    'activation': ['tanh', 'relu'],\n",
    "    'alpha': [0.0001, 0.05, 0.1],\n",
    "}"
   ]
  },
  {
   "cell_type": "raw",
   "id": "693af43c",
   "metadata": {},
   "source": [
    "Since we have class imbalance the cost of misclassifying a person having mental illness is a lot more costly than a person not having mental illness. Thus the metric of evaluation is F1 score as opposed to accuracy. \n",
    "\n",
    "The cost of FN is higher than FP, thus we want to maximize recall"
   ]
  },
  {
   "cell_type": "code",
   "execution_count": 525,
   "id": "1874b926",
   "metadata": {},
   "outputs": [
    {
     "data": {
      "text/html": [
       "<style>#sk-container-id-15 {color: black;}#sk-container-id-15 pre{padding: 0;}#sk-container-id-15 div.sk-toggleable {background-color: white;}#sk-container-id-15 label.sk-toggleable__label {cursor: pointer;display: block;width: 100%;margin-bottom: 0;padding: 0.3em;box-sizing: border-box;text-align: center;}#sk-container-id-15 label.sk-toggleable__label-arrow:before {content: \"▸\";float: left;margin-right: 0.25em;color: #696969;}#sk-container-id-15 label.sk-toggleable__label-arrow:hover:before {color: black;}#sk-container-id-15 div.sk-estimator:hover label.sk-toggleable__label-arrow:before {color: black;}#sk-container-id-15 div.sk-toggleable__content {max-height: 0;max-width: 0;overflow: hidden;text-align: left;background-color: #f0f8ff;}#sk-container-id-15 div.sk-toggleable__content pre {margin: 0.2em;color: black;border-radius: 0.25em;background-color: #f0f8ff;}#sk-container-id-15 input.sk-toggleable__control:checked~div.sk-toggleable__content {max-height: 200px;max-width: 100%;overflow: auto;}#sk-container-id-15 input.sk-toggleable__control:checked~label.sk-toggleable__label-arrow:before {content: \"▾\";}#sk-container-id-15 div.sk-estimator input.sk-toggleable__control:checked~label.sk-toggleable__label {background-color: #d4ebff;}#sk-container-id-15 div.sk-label input.sk-toggleable__control:checked~label.sk-toggleable__label {background-color: #d4ebff;}#sk-container-id-15 input.sk-hidden--visually {border: 0;clip: rect(1px 1px 1px 1px);clip: rect(1px, 1px, 1px, 1px);height: 1px;margin: -1px;overflow: hidden;padding: 0;position: absolute;width: 1px;}#sk-container-id-15 div.sk-estimator {font-family: monospace;background-color: #f0f8ff;border: 1px dotted black;border-radius: 0.25em;box-sizing: border-box;margin-bottom: 0.5em;}#sk-container-id-15 div.sk-estimator:hover {background-color: #d4ebff;}#sk-container-id-15 div.sk-parallel-item::after {content: \"\";width: 100%;border-bottom: 1px solid gray;flex-grow: 1;}#sk-container-id-15 div.sk-label:hover label.sk-toggleable__label {background-color: #d4ebff;}#sk-container-id-15 div.sk-serial::before {content: \"\";position: absolute;border-left: 1px solid gray;box-sizing: border-box;top: 0;bottom: 0;left: 50%;z-index: 0;}#sk-container-id-15 div.sk-serial {display: flex;flex-direction: column;align-items: center;background-color: white;padding-right: 0.2em;padding-left: 0.2em;position: relative;}#sk-container-id-15 div.sk-item {position: relative;z-index: 1;}#sk-container-id-15 div.sk-parallel {display: flex;align-items: stretch;justify-content: center;background-color: white;position: relative;}#sk-container-id-15 div.sk-item::before, #sk-container-id-15 div.sk-parallel-item::before {content: \"\";position: absolute;border-left: 1px solid gray;box-sizing: border-box;top: 0;bottom: 0;left: 50%;z-index: -1;}#sk-container-id-15 div.sk-parallel-item {display: flex;flex-direction: column;z-index: 1;position: relative;background-color: white;}#sk-container-id-15 div.sk-parallel-item:first-child::after {align-self: flex-end;width: 50%;}#sk-container-id-15 div.sk-parallel-item:last-child::after {align-self: flex-start;width: 50%;}#sk-container-id-15 div.sk-parallel-item:only-child::after {width: 0;}#sk-container-id-15 div.sk-dashed-wrapped {border: 1px dashed gray;margin: 0 0.4em 0.5em 0.4em;box-sizing: border-box;padding-bottom: 0.4em;background-color: white;}#sk-container-id-15 div.sk-label label {font-family: monospace;font-weight: bold;display: inline-block;line-height: 1.2em;}#sk-container-id-15 div.sk-label-container {text-align: center;}#sk-container-id-15 div.sk-container {/* jupyter's `normalize.less` sets `[hidden] { display: none; }` but bootstrap.min.css set `[hidden] { display: none !important; }` so we also need the `!important` here to be able to override the default hidden behavior on the sphinx rendered scikit-learn.org. See: https://github.com/scikit-learn/scikit-learn/issues/21755 */display: inline-block !important;position: relative;}#sk-container-id-15 div.sk-text-repr-fallback {display: none;}</style><div id=\"sk-container-id-15\" class=\"sk-top-container\"><div class=\"sk-text-repr-fallback\"><pre>GridSearchCV(cv=2, estimator=MLPClassifier(max_iter=20),\n",
       "             param_grid={&#x27;activation&#x27;: [&#x27;tanh&#x27;, &#x27;relu&#x27;],\n",
       "                         &#x27;alpha&#x27;: [0.0001, 0.05, 0.1],\n",
       "                         &#x27;hidden_layer_sizes&#x27;: [(50, 50), (50, 100, 50)]},\n",
       "             scoring=&#x27;f1&#x27;)</pre><b>In a Jupyter environment, please rerun this cell to show the HTML representation or trust the notebook. <br />On GitHub, the HTML representation is unable to render, please try loading this page with nbviewer.org.</b></div><div class=\"sk-container\" hidden><div class=\"sk-item sk-dashed-wrapped\"><div class=\"sk-label-container\"><div class=\"sk-label sk-toggleable\"><input class=\"sk-toggleable__control sk-hidden--visually\" id=\"sk-estimator-id-41\" type=\"checkbox\" ><label for=\"sk-estimator-id-41\" class=\"sk-toggleable__label sk-toggleable__label-arrow\">GridSearchCV</label><div class=\"sk-toggleable__content\"><pre>GridSearchCV(cv=2, estimator=MLPClassifier(max_iter=20),\n",
       "             param_grid={&#x27;activation&#x27;: [&#x27;tanh&#x27;, &#x27;relu&#x27;],\n",
       "                         &#x27;alpha&#x27;: [0.0001, 0.05, 0.1],\n",
       "                         &#x27;hidden_layer_sizes&#x27;: [(50, 50), (50, 100, 50)]},\n",
       "             scoring=&#x27;f1&#x27;)</pre></div></div></div><div class=\"sk-parallel\"><div class=\"sk-parallel-item\"><div class=\"sk-item\"><div class=\"sk-label-container\"><div class=\"sk-label sk-toggleable\"><input class=\"sk-toggleable__control sk-hidden--visually\" id=\"sk-estimator-id-42\" type=\"checkbox\" ><label for=\"sk-estimator-id-42\" class=\"sk-toggleable__label sk-toggleable__label-arrow\">estimator: MLPClassifier</label><div class=\"sk-toggleable__content\"><pre>MLPClassifier(max_iter=20)</pre></div></div></div><div class=\"sk-serial\"><div class=\"sk-item\"><div class=\"sk-estimator sk-toggleable\"><input class=\"sk-toggleable__control sk-hidden--visually\" id=\"sk-estimator-id-43\" type=\"checkbox\" ><label for=\"sk-estimator-id-43\" class=\"sk-toggleable__label sk-toggleable__label-arrow\">MLPClassifier</label><div class=\"sk-toggleable__content\"><pre>MLPClassifier(max_iter=20)</pre></div></div></div></div></div></div></div></div></div></div>"
      ],
      "text/plain": [
       "GridSearchCV(cv=2, estimator=MLPClassifier(max_iter=20),\n",
       "             param_grid={'activation': ['tanh', 'relu'],\n",
       "                         'alpha': [0.0001, 0.05, 0.1],\n",
       "                         'hidden_layer_sizes': [(50, 50), (50, 100, 50)]},\n",
       "             scoring='f1')"
      ]
     },
     "execution_count": 525,
     "metadata": {},
     "output_type": "execute_result"
    }
   ],
   "source": [
    "clf = GridSearchCV(mlp, parameter_space, scoring='f1', cv=2)\n",
    "clf.fit(X_train, y_train)"
   ]
  },
  {
   "cell_type": "code",
   "execution_count": 526,
   "id": "482d4771",
   "metadata": {},
   "outputs": [
    {
     "name": "stdout",
     "output_type": "stream",
     "text": [
      "Best parameters found:\n",
      " {'activation': 'relu', 'alpha': 0.05, 'hidden_layer_sizes': (50, 50)}\n"
     ]
    }
   ],
   "source": [
    "print('Best parameters found:\\n', clf.best_params_)"
   ]
  },
  {
   "cell_type": "code",
   "execution_count": 527,
   "id": "c7fd0294",
   "metadata": {},
   "outputs": [
    {
     "name": "stdout",
     "output_type": "stream",
     "text": [
      "0.24226559779498863\n"
     ]
    }
   ],
   "source": [
    "print( clf.best_score_)"
   ]
  },
  {
   "cell_type": "code",
   "execution_count": 529,
   "id": "3ceac6c0",
   "metadata": {},
   "outputs": [
    {
     "name": "stdout",
     "output_type": "stream",
     "text": [
      "              precision    recall  f1-score   support\n",
      "\n",
      "           0       0.61      0.06      0.11     85208\n",
      "           1       0.30      0.91      0.45     37376\n",
      "\n",
      "    accuracy                           0.32    122584\n",
      "   macro avg       0.46      0.49      0.28    122584\n",
      "weighted avg       0.52      0.32      0.21    122584\n",
      "\n"
     ]
    }
   ],
   "source": [
    "pred=clf.predict(X_test)\n",
    "print(classification_report(y_test, pred)) "
   ]
  },
  {
   "cell_type": "code",
   "execution_count": 530,
   "id": "d06d3154",
   "metadata": {},
   "outputs": [
    {
     "name": "stdout",
     "output_type": "stream",
     "text": [
      "[[ 5161 80047]\n",
      " [ 3270 34106]]\n"
     ]
    }
   ],
   "source": [
    "print(confusion_matrix(y_test, pred)) "
   ]
  },
  {
   "cell_type": "code",
   "execution_count": 531,
   "id": "b4e21e89",
   "metadata": {},
   "outputs": [
    {
     "name": "stdout",
     "output_type": "stream",
     "text": [
      "0.3203272857795471\n"
     ]
    }
   ],
   "source": [
    "print(accuracy_score(y_test, pred)) "
   ]
  },
  {
   "cell_type": "code",
   "execution_count": 532,
   "id": "22fea246",
   "metadata": {},
   "outputs": [
    {
     "name": "stdout",
     "output_type": "stream",
     "text": [
      "0.45015805555372246\n"
     ]
    }
   ],
   "source": [
    "print(f1_score(y_test, pred)) "
   ]
  },
  {
   "cell_type": "code",
   "execution_count": 533,
   "id": "5f4714da",
   "metadata": {},
   "outputs": [
    {
     "name": "stdout",
     "output_type": "stream",
     "text": [
      "0.9125107020547946\n"
     ]
    }
   ],
   "source": [
    "#Recall: Out of all the people that actually did have mentall ilness, the model predicted this outcome correctly for 91% of those people.\n",
    "print(recall_score(y_test, pred)) "
   ]
  },
  {
   "cell_type": "raw",
   "id": "a09b8ba5",
   "metadata": {},
   "source": [
    "MLP:Pros\n",
    "\n",
    "The neurons in the MLP typically use nonlinear activation functions, allowing the network to learn complex patterns in data. MLPs are significant in machine learning because they can learn nonlinear relationships in data.\n",
    "\n",
    "MLP:Cons\n",
    "MLPs are do not allow inference, ie) it is unclear how the network makes its predictions or judgments.\n",
    "Overfitting– If the model is too complicated or the training data is too restricted, MLPs may easily overfit the training data.\n"
   ]
  },
  {
   "cell_type": "raw",
   "id": "9a0f158b",
   "metadata": {},
   "source": [
    "Next we examine a Random Forest algorithm\n",
    "\n",
    "A random forest is a machine learning algorithm that uses multiple decision trees to make predictions. A random forest trains many decision trees, each with a random subset of the data. \n",
    "Each tree makes its own prediction and The random forest combines the predictions from all the trees to reach a single result. "
   ]
  },
  {
   "cell_type": "code",
   "execution_count": 518,
   "id": "d1f043fd",
   "metadata": {},
   "outputs": [
    {
     "data": {
      "text/html": [
       "<div>\n",
       "<style scoped>\n",
       "    .dataframe tbody tr th:only-of-type {\n",
       "        vertical-align: middle;\n",
       "    }\n",
       "\n",
       "    .dataframe tbody tr th {\n",
       "        vertical-align: top;\n",
       "    }\n",
       "\n",
       "    .dataframe thead th {\n",
       "        text-align: right;\n",
       "    }\n",
       "</style>\n",
       "<table border=\"1\" class=\"dataframe\">\n",
       "  <thead>\n",
       "    <tr style=\"text-align: right;\">\n",
       "      <th></th>\n",
       "      <th>Age</th>\n",
       "      <th>Marital Status</th>\n",
       "      <th>Education Level</th>\n",
       "      <th>Number of Children</th>\n",
       "      <th>Smoking Status</th>\n",
       "      <th>Physical Activity Level</th>\n",
       "      <th>Employment Status</th>\n",
       "      <th>Income</th>\n",
       "      <th>Alcohol Consumption</th>\n",
       "      <th>Dietary Habits</th>\n",
       "      <th>Sleep Patterns</th>\n",
       "      <th>History of Mental Illness</th>\n",
       "      <th>History of Substance Abuse</th>\n",
       "      <th>Family History of Depression</th>\n",
       "      <th>Chronic Medical Conditions</th>\n",
       "    </tr>\n",
       "  </thead>\n",
       "  <tbody>\n",
       "    <tr>\n",
       "      <th>0</th>\n",
       "      <td>31</td>\n",
       "      <td>1</td>\n",
       "      <td>1</td>\n",
       "      <td>2</td>\n",
       "      <td>2</td>\n",
       "      <td>0</td>\n",
       "      <td>0</td>\n",
       "      <td>26265.67</td>\n",
       "      <td>1</td>\n",
       "      <td>1</td>\n",
       "      <td>1</td>\n",
       "      <td>1</td>\n",
       "      <td>0</td>\n",
       "      <td>1</td>\n",
       "      <td>1</td>\n",
       "    </tr>\n",
       "    <tr>\n",
       "      <th>1</th>\n",
       "      <td>55</td>\n",
       "      <td>1</td>\n",
       "      <td>2</td>\n",
       "      <td>1</td>\n",
       "      <td>2</td>\n",
       "      <td>2</td>\n",
       "      <td>1</td>\n",
       "      <td>42710.36</td>\n",
       "      <td>0</td>\n",
       "      <td>2</td>\n",
       "      <td>1</td>\n",
       "      <td>1</td>\n",
       "      <td>0</td>\n",
       "      <td>0</td>\n",
       "      <td>1</td>\n",
       "    </tr>\n",
       "    <tr>\n",
       "      <th>2</th>\n",
       "      <td>78</td>\n",
       "      <td>3</td>\n",
       "      <td>3</td>\n",
       "      <td>1</td>\n",
       "      <td>2</td>\n",
       "      <td>2</td>\n",
       "      <td>1</td>\n",
       "      <td>125332.79</td>\n",
       "      <td>2</td>\n",
       "      <td>2</td>\n",
       "      <td>2</td>\n",
       "      <td>0</td>\n",
       "      <td>0</td>\n",
       "      <td>1</td>\n",
       "      <td>0</td>\n",
       "    </tr>\n",
       "    <tr>\n",
       "      <th>3</th>\n",
       "      <td>58</td>\n",
       "      <td>0</td>\n",
       "      <td>3</td>\n",
       "      <td>3</td>\n",
       "      <td>2</td>\n",
       "      <td>1</td>\n",
       "      <td>0</td>\n",
       "      <td>9992.78</td>\n",
       "      <td>1</td>\n",
       "      <td>1</td>\n",
       "      <td>0</td>\n",
       "      <td>0</td>\n",
       "      <td>0</td>\n",
       "      <td>0</td>\n",
       "      <td>0</td>\n",
       "    </tr>\n",
       "    <tr>\n",
       "      <th>4</th>\n",
       "      <td>18</td>\n",
       "      <td>2</td>\n",
       "      <td>2</td>\n",
       "      <td>0</td>\n",
       "      <td>2</td>\n",
       "      <td>2</td>\n",
       "      <td>0</td>\n",
       "      <td>8595.08</td>\n",
       "      <td>2</td>\n",
       "      <td>1</td>\n",
       "      <td>1</td>\n",
       "      <td>1</td>\n",
       "      <td>0</td>\n",
       "      <td>1</td>\n",
       "      <td>1</td>\n",
       "    </tr>\n",
       "    <tr>\n",
       "      <th>...</th>\n",
       "      <td>...</td>\n",
       "      <td>...</td>\n",
       "      <td>...</td>\n",
       "      <td>...</td>\n",
       "      <td>...</td>\n",
       "      <td>...</td>\n",
       "      <td>...</td>\n",
       "      <td>...</td>\n",
       "      <td>...</td>\n",
       "      <td>...</td>\n",
       "      <td>...</td>\n",
       "      <td>...</td>\n",
       "      <td>...</td>\n",
       "      <td>...</td>\n",
       "      <td>...</td>\n",
       "    </tr>\n",
       "    <tr>\n",
       "      <th>413763</th>\n",
       "      <td>68</td>\n",
       "      <td>1</td>\n",
       "      <td>3</td>\n",
       "      <td>0</td>\n",
       "      <td>1</td>\n",
       "      <td>1</td>\n",
       "      <td>1</td>\n",
       "      <td>109233.43</td>\n",
       "      <td>2</td>\n",
       "      <td>0</td>\n",
       "      <td>2</td>\n",
       "      <td>0</td>\n",
       "      <td>0</td>\n",
       "      <td>0</td>\n",
       "      <td>0</td>\n",
       "    </tr>\n",
       "    <tr>\n",
       "      <th>413764</th>\n",
       "      <td>26</td>\n",
       "      <td>2</td>\n",
       "      <td>1</td>\n",
       "      <td>0</td>\n",
       "      <td>0</td>\n",
       "      <td>0</td>\n",
       "      <td>1</td>\n",
       "      <td>96760.97</td>\n",
       "      <td>2</td>\n",
       "      <td>0</td>\n",
       "      <td>0</td>\n",
       "      <td>1</td>\n",
       "      <td>1</td>\n",
       "      <td>0</td>\n",
       "      <td>1</td>\n",
       "    </tr>\n",
       "    <tr>\n",
       "      <th>413765</th>\n",
       "      <td>57</td>\n",
       "      <td>1</td>\n",
       "      <td>1</td>\n",
       "      <td>0</td>\n",
       "      <td>2</td>\n",
       "      <td>2</td>\n",
       "      <td>1</td>\n",
       "      <td>77353.26</td>\n",
       "      <td>1</td>\n",
       "      <td>1</td>\n",
       "      <td>1</td>\n",
       "      <td>0</td>\n",
       "      <td>0</td>\n",
       "      <td>1</td>\n",
       "      <td>1</td>\n",
       "    </tr>\n",
       "    <tr>\n",
       "      <th>413766</th>\n",
       "      <td>71</td>\n",
       "      <td>1</td>\n",
       "      <td>0</td>\n",
       "      <td>2</td>\n",
       "      <td>2</td>\n",
       "      <td>2</td>\n",
       "      <td>0</td>\n",
       "      <td>24557.08</td>\n",
       "      <td>1</td>\n",
       "      <td>1</td>\n",
       "      <td>0</td>\n",
       "      <td>0</td>\n",
       "      <td>1</td>\n",
       "      <td>0</td>\n",
       "      <td>0</td>\n",
       "    </tr>\n",
       "    <tr>\n",
       "      <th>413767</th>\n",
       "      <td>62</td>\n",
       "      <td>3</td>\n",
       "      <td>3</td>\n",
       "      <td>0</td>\n",
       "      <td>1</td>\n",
       "      <td>1</td>\n",
       "      <td>1</td>\n",
       "      <td>107125.74</td>\n",
       "      <td>1</td>\n",
       "      <td>0</td>\n",
       "      <td>2</td>\n",
       "      <td>0</td>\n",
       "      <td>1</td>\n",
       "      <td>0</td>\n",
       "      <td>0</td>\n",
       "    </tr>\n",
       "  </tbody>\n",
       "</table>\n",
       "<p>408611 rows × 15 columns</p>\n",
       "</div>"
      ],
      "text/plain": [
       "        Age  Marital Status  Education Level  Number of Children  \\\n",
       "0        31               1                1                   2   \n",
       "1        55               1                2                   1   \n",
       "2        78               3                3                   1   \n",
       "3        58               0                3                   3   \n",
       "4        18               2                2                   0   \n",
       "...     ...             ...              ...                 ...   \n",
       "413763   68               1                3                   0   \n",
       "413764   26               2                1                   0   \n",
       "413765   57               1                1                   0   \n",
       "413766   71               1                0                   2   \n",
       "413767   62               3                3                   0   \n",
       "\n",
       "        Smoking Status  Physical Activity Level  Employment Status     Income  \\\n",
       "0                    2                        0                  0   26265.67   \n",
       "1                    2                        2                  1   42710.36   \n",
       "2                    2                        2                  1  125332.79   \n",
       "3                    2                        1                  0    9992.78   \n",
       "4                    2                        2                  0    8595.08   \n",
       "...                ...                      ...                ...        ...   \n",
       "413763               1                        1                  1  109233.43   \n",
       "413764               0                        0                  1   96760.97   \n",
       "413765               2                        2                  1   77353.26   \n",
       "413766               2                        2                  0   24557.08   \n",
       "413767               1                        1                  1  107125.74   \n",
       "\n",
       "        Alcohol Consumption  Dietary Habits  Sleep Patterns  \\\n",
       "0                         1               1               1   \n",
       "1                         0               2               1   \n",
       "2                         2               2               2   \n",
       "3                         1               1               0   \n",
       "4                         2               1               1   \n",
       "...                     ...             ...             ...   \n",
       "413763                    2               0               2   \n",
       "413764                    2               0               0   \n",
       "413765                    1               1               1   \n",
       "413766                    1               1               0   \n",
       "413767                    1               0               2   \n",
       "\n",
       "        History of Mental Illness  History of Substance Abuse  \\\n",
       "0                               1                           0   \n",
       "1                               1                           0   \n",
       "2                               0                           0   \n",
       "3                               0                           0   \n",
       "4                               1                           0   \n",
       "...                           ...                         ...   \n",
       "413763                          0                           0   \n",
       "413764                          1                           1   \n",
       "413765                          0                           0   \n",
       "413766                          0                           1   \n",
       "413767                          0                           1   \n",
       "\n",
       "        Family History of Depression  Chronic Medical Conditions  \n",
       "0                                  1                           1  \n",
       "1                                  0                           1  \n",
       "2                                  1                           0  \n",
       "3                                  0                           0  \n",
       "4                                  1                           1  \n",
       "...                              ...                         ...  \n",
       "413763                             0                           0  \n",
       "413764                             0                           1  \n",
       "413765                             1                           1  \n",
       "413766                             0                           0  \n",
       "413767                             0                           0  \n",
       "\n",
       "[408611 rows x 15 columns]"
      ]
     },
     "execution_count": 518,
     "metadata": {},
     "output_type": "execute_result"
    }
   ],
   "source": [
    "df1"
   ]
  },
  {
   "cell_type": "code",
   "execution_count": 446,
   "id": "432dd187",
   "metadata": {},
   "outputs": [],
   "source": [
    "X=df1.drop('History of Mental Illness', axis=1)\n",
    "Y=df1['History of Mental Illness']\n",
    "X_train, X_test, y_train, y_test = train_test_split(X, Y, test_size=0.30, random_state=42, stratify=Y)"
   ]
  },
  {
   "cell_type": "code",
   "execution_count": 447,
   "id": "ae8b1a35",
   "metadata": {},
   "outputs": [
    {
     "name": "stdout",
     "output_type": "stream",
     "text": [
      "Accuracy after before selection: 0.67\n"
     ]
    }
   ],
   "source": [
    "#1) Random Forest Evaluation before feature selection\n",
    "\n",
    "\n",
    "rf= RandomForestClassifier(n_estimators=100, random_state=42)\n",
    "rf.fit(X_train, y_train)\n",
    "\n",
    "# Evaluate the model\n",
    "accuracy_before = rf.score(X_test, y_test)\n",
    "print(f'Accuracy after before selection: {accuracy_before:.2f}')"
   ]
  },
  {
   "cell_type": "code",
   "execution_count": 448,
   "id": "3810ab68",
   "metadata": {},
   "outputs": [
    {
     "name": "stdout",
     "output_type": "stream",
     "text": [
      "              precision    recall  f1-score   support\n",
      "\n",
      "           0       0.70      0.90      0.79     85166\n",
      "           1       0.36      0.13      0.19     37418\n",
      "\n",
      "    accuracy                           0.67    122584\n",
      "   macro avg       0.53      0.51      0.49    122584\n",
      "weighted avg       0.60      0.67      0.61    122584\n",
      "\n"
     ]
    }
   ],
   "source": [
    "pred=rf.predict(X_test)\n",
    "print(classification_report(y_test, pred)) "
   ]
  },
  {
   "cell_type": "code",
   "execution_count": 449,
   "id": "c57967b8",
   "metadata": {},
   "outputs": [
    {
     "name": "stdout",
     "output_type": "stream",
     "text": [
      "0.1872110787056326\n"
     ]
    }
   ],
   "source": [
    "print(f1_score(y_test, pred)) "
   ]
  },
  {
   "cell_type": "code",
   "execution_count": 450,
   "id": "6976c1a1",
   "metadata": {},
   "outputs": [
    {
     "name": "stdout",
     "output_type": "stream",
     "text": [
      "0.12608904805173982\n"
     ]
    }
   ],
   "source": [
    "print(recall_score(y_test, pred)) "
   ]
  },
  {
   "cell_type": "code",
   "execution_count": 451,
   "id": "0615e076",
   "metadata": {},
   "outputs": [
    {
     "name": "stdout",
     "output_type": "stream",
     "text": [
      "0.3633423180592992\n"
     ]
    }
   ],
   "source": [
    "print(precision_score(y_test, pred)) "
   ]
  },
  {
   "cell_type": "code",
   "execution_count": 453,
   "id": "0790ae01",
   "metadata": {},
   "outputs": [
    {
     "name": "stdout",
     "output_type": "stream",
     "text": [
      "                         Feature  Importance\n",
      "7                         Income    0.380617\n",
      "0                            Age    0.245621\n",
      "3             Number of Children    0.056654\n",
      "8            Alcohol Consumption    0.043492\n",
      "2                Education Level    0.039056\n",
      "5        Physical Activity Level    0.032322\n",
      "10                Sleep Patterns    0.031595\n",
      "4                 Smoking Status    0.030103\n",
      "9                 Dietary Habits    0.029267\n",
      "1                 Marital Status    0.027739\n",
      "11    History of Substance Abuse    0.024873\n",
      "13    Chronic Medical Conditions    0.024342\n",
      "12  Family History of Depression    0.022790\n",
      "6              Employment Status    0.011530\n"
     ]
    }
   ],
   "source": [
    "#1) Random Forest Evaluation after feature selection\n",
    "\n",
    "importances = rf.feature_importances_\n",
    "feature_names = X.columns\n",
    "feature_importance_df = pd.DataFrame({'Feature': feature_names, 'Importance': importances})\n",
    "\n",
    "# Rank features by importance\n",
    "feature_importance_df = feature_importance_df.sort_values(by='Importance', ascending=False)\n",
    "print(feature_importance_df)\n",
    "\n",
    "# Select top N features (example selecting top 10 features)\n",
    "top_features = feature_importance_df['Feature'][:8].values\n",
    "X_train_selected = X_train[top_features]\n",
    "X_test_selected = X_test[top_features]"
   ]
  },
  {
   "cell_type": "code",
   "execution_count": 454,
   "id": "c5281702",
   "metadata": {},
   "outputs": [
    {
     "name": "stdout",
     "output_type": "stream",
     "text": [
      "Accuracy after feature selection: 0.63\n"
     ]
    }
   ],
   "source": [
    "# Train the Random Forest model with selected features\n",
    "rf_selected = RandomForestClassifier(n_estimators=100, random_state=42)\n",
    "rf_selected.fit(X_train_selected, y_train)\n",
    "\n",
    "# Evaluate the model\n",
    "accuracy_after = rf_selected.score(X_test_selected, y_test)\n",
    "print(f'Accuracy after feature selection: {accuracy_after:.2f}')"
   ]
  },
  {
   "cell_type": "code",
   "execution_count": 458,
   "id": "2e90d79f",
   "metadata": {},
   "outputs": [
    {
     "name": "stdout",
     "output_type": "stream",
     "text": [
      "              precision    recall  f1-score   support\n",
      "\n",
      "           0       0.70      0.82      0.76     85166\n",
      "           1       0.34      0.21      0.26     37418\n",
      "\n",
      "    accuracy                           0.63    122584\n",
      "   macro avg       0.52      0.52      0.51    122584\n",
      "weighted avg       0.59      0.63      0.61    122584\n",
      "\n"
     ]
    }
   ],
   "source": [
    "pred=rf_selected .predict(X_test_selected)\n",
    "print(classification_report(y_test, pred)) "
   ]
  },
  {
   "cell_type": "code",
   "execution_count": 459,
   "id": "b49b63d1",
   "metadata": {},
   "outputs": [
    {
     "name": "stdout",
     "output_type": "stream",
     "text": [
      "0.2616150624855739\n"
     ]
    }
   ],
   "source": [
    "print(f1_score(y_test, pred)) "
   ]
  },
  {
   "cell_type": "code",
   "execution_count": 460,
   "id": "969dc5de",
   "metadata": {},
   "outputs": [
    {
     "name": "stdout",
     "output_type": "stream",
     "text": [
      "0.2120369875461008\n"
     ]
    }
   ],
   "source": [
    "print(recall_score(y_test, pred)) "
   ]
  },
  {
   "cell_type": "code",
   "execution_count": 461,
   "id": "ad202a6f",
   "metadata": {},
   "outputs": [
    {
     "name": "stdout",
     "output_type": "stream",
     "text": [
      "0.34145291788603893\n"
     ]
    }
   ],
   "source": [
    "print(precision_score(y_test, pred)) "
   ]
  },
  {
   "cell_type": "raw",
   "id": "b493c2c9",
   "metadata": {},
   "source": [
    "Pros of Random Forest Algorithm\n",
    "\n",
    "\n",
    "•\tHigh Accuracy: \n",
    "•\tRobustness to Noise: \n",
    "•\tNon-Parametric Nature: Random Forest approach is non-parametric, which means it does not assume anything about the distribution of the data at the root level or the correlation between the target variable and characteristics. \n",
    "•\tEstimating Feature Importance: \n",
    "•\tHandles Missing Data and Outliers\n",
    "\n",
    "\n",
    "Cons of Random Forest Algorithm\n",
    "\n",
    "•\tComputational Complexity:.\n",
    "•\tLack of Interpretability: As Random Forest models integrate several decision trees, it is ab difficult to understand the logic underlying each prediction.\n",
    "•\tOverfitting: Random Forest can suffer from overfitting when the model captures noise in the training data, leading to poor generalization on new data. \n",
    "\n",
    "\n",
    "\n"
   ]
  }
 ],
 "metadata": {
  "kernelspec": {
   "display_name": "Python 3 (ipykernel)",
   "language": "python",
   "name": "python3"
  },
  "language_info": {
   "codemirror_mode": {
    "name": "ipython",
    "version": 3
   },
   "file_extension": ".py",
   "mimetype": "text/x-python",
   "name": "python",
   "nbconvert_exporter": "python",
   "pygments_lexer": "ipython3",
   "version": "3.11.5"
  }
 },
 "nbformat": 4,
 "nbformat_minor": 5
}
